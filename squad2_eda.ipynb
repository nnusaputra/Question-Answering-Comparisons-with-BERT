{
  "nbformat": 4,
  "nbformat_minor": 0,
  "metadata": {
    "colab": {
      "name": "squad2_eda.ipynb",
      "provenance": [],
      "collapsed_sections": [],
      "machine_shape": "hm"
    },
    "kernelspec": {
      "name": "python3",
      "display_name": "Python 3"
    },
    "widgets": {
      "application/vnd.jupyter.widget-state+json": {
        "ef1e3bc1be0a41edbd360b886cc326e1": {
          "model_module": "@jupyter-widgets/controls",
          "model_name": "HBoxModel",
          "state": {
            "_view_name": "HBoxView",
            "_dom_classes": [],
            "_model_name": "HBoxModel",
            "_view_module": "@jupyter-widgets/controls",
            "_model_module_version": "1.5.0",
            "_view_count": null,
            "_view_module_version": "1.5.0",
            "box_style": "",
            "layout": "IPY_MODEL_ba86850d4d904e39a8938235c928e188",
            "_model_module": "@jupyter-widgets/controls",
            "children": [
              "IPY_MODEL_4fca4c40316a4ca5a742694f20aba7d6",
              "IPY_MODEL_993fb2cbb5a7436b97275ed4a9376042"
            ]
          }
        },
        "ba86850d4d904e39a8938235c928e188": {
          "model_module": "@jupyter-widgets/base",
          "model_name": "LayoutModel",
          "state": {
            "_view_name": "LayoutView",
            "grid_template_rows": null,
            "right": null,
            "justify_content": null,
            "_view_module": "@jupyter-widgets/base",
            "overflow": null,
            "_model_module_version": "1.2.0",
            "_view_count": null,
            "flex_flow": null,
            "width": null,
            "min_width": null,
            "border": null,
            "align_items": null,
            "bottom": null,
            "_model_module": "@jupyter-widgets/base",
            "top": null,
            "grid_column": null,
            "overflow_y": null,
            "overflow_x": null,
            "grid_auto_flow": null,
            "grid_area": null,
            "grid_template_columns": null,
            "flex": null,
            "_model_name": "LayoutModel",
            "justify_items": null,
            "grid_row": null,
            "max_height": null,
            "align_content": null,
            "visibility": null,
            "align_self": null,
            "height": null,
            "min_height": null,
            "padding": null,
            "grid_auto_rows": null,
            "grid_gap": null,
            "max_width": null,
            "order": null,
            "_view_module_version": "1.2.0",
            "grid_template_areas": null,
            "object_position": null,
            "object_fit": null,
            "grid_auto_columns": null,
            "margin": null,
            "display": null,
            "left": null
          }
        },
        "4fca4c40316a4ca5a742694f20aba7d6": {
          "model_module": "@jupyter-widgets/controls",
          "model_name": "FloatProgressModel",
          "state": {
            "_view_name": "ProgressView",
            "style": "IPY_MODEL_9838bff0d2d14082b606660db766dd96",
            "_dom_classes": [],
            "description": "Downloading: ",
            "_model_name": "FloatProgressModel",
            "bar_style": "success",
            "max": 1806,
            "_view_module": "@jupyter-widgets/controls",
            "_model_module_version": "1.5.0",
            "value": 1806,
            "_view_count": null,
            "_view_module_version": "1.5.0",
            "orientation": "horizontal",
            "min": 0,
            "description_tooltip": null,
            "_model_module": "@jupyter-widgets/controls",
            "layout": "IPY_MODEL_96ddc1f10e2c439cac16efb7d6bf7b0c"
          }
        },
        "993fb2cbb5a7436b97275ed4a9376042": {
          "model_module": "@jupyter-widgets/controls",
          "model_name": "HTMLModel",
          "state": {
            "_view_name": "HTMLView",
            "style": "IPY_MODEL_627089f6174f456c81133e2ce683303e",
            "_dom_classes": [],
            "description": "",
            "_model_name": "HTMLModel",
            "placeholder": "​",
            "_view_module": "@jupyter-widgets/controls",
            "_model_module_version": "1.5.0",
            "value": " 5.07k/? [00:02&lt;00:00, 2.32kB/s]",
            "_view_count": null,
            "_view_module_version": "1.5.0",
            "description_tooltip": null,
            "_model_module": "@jupyter-widgets/controls",
            "layout": "IPY_MODEL_1a133a95cbad4f81990de5b4bc571db0"
          }
        },
        "9838bff0d2d14082b606660db766dd96": {
          "model_module": "@jupyter-widgets/controls",
          "model_name": "ProgressStyleModel",
          "state": {
            "_view_name": "StyleView",
            "_model_name": "ProgressStyleModel",
            "description_width": "initial",
            "_view_module": "@jupyter-widgets/base",
            "_model_module_version": "1.5.0",
            "_view_count": null,
            "_view_module_version": "1.2.0",
            "bar_color": null,
            "_model_module": "@jupyter-widgets/controls"
          }
        },
        "96ddc1f10e2c439cac16efb7d6bf7b0c": {
          "model_module": "@jupyter-widgets/base",
          "model_name": "LayoutModel",
          "state": {
            "_view_name": "LayoutView",
            "grid_template_rows": null,
            "right": null,
            "justify_content": null,
            "_view_module": "@jupyter-widgets/base",
            "overflow": null,
            "_model_module_version": "1.2.0",
            "_view_count": null,
            "flex_flow": null,
            "width": null,
            "min_width": null,
            "border": null,
            "align_items": null,
            "bottom": null,
            "_model_module": "@jupyter-widgets/base",
            "top": null,
            "grid_column": null,
            "overflow_y": null,
            "overflow_x": null,
            "grid_auto_flow": null,
            "grid_area": null,
            "grid_template_columns": null,
            "flex": null,
            "_model_name": "LayoutModel",
            "justify_items": null,
            "grid_row": null,
            "max_height": null,
            "align_content": null,
            "visibility": null,
            "align_self": null,
            "height": null,
            "min_height": null,
            "padding": null,
            "grid_auto_rows": null,
            "grid_gap": null,
            "max_width": null,
            "order": null,
            "_view_module_version": "1.2.0",
            "grid_template_areas": null,
            "object_position": null,
            "object_fit": null,
            "grid_auto_columns": null,
            "margin": null,
            "display": null,
            "left": null
          }
        },
        "627089f6174f456c81133e2ce683303e": {
          "model_module": "@jupyter-widgets/controls",
          "model_name": "DescriptionStyleModel",
          "state": {
            "_view_name": "StyleView",
            "_model_name": "DescriptionStyleModel",
            "description_width": "",
            "_view_module": "@jupyter-widgets/base",
            "_model_module_version": "1.5.0",
            "_view_count": null,
            "_view_module_version": "1.2.0",
            "_model_module": "@jupyter-widgets/controls"
          }
        },
        "1a133a95cbad4f81990de5b4bc571db0": {
          "model_module": "@jupyter-widgets/base",
          "model_name": "LayoutModel",
          "state": {
            "_view_name": "LayoutView",
            "grid_template_rows": null,
            "right": null,
            "justify_content": null,
            "_view_module": "@jupyter-widgets/base",
            "overflow": null,
            "_model_module_version": "1.2.0",
            "_view_count": null,
            "flex_flow": null,
            "width": null,
            "min_width": null,
            "border": null,
            "align_items": null,
            "bottom": null,
            "_model_module": "@jupyter-widgets/base",
            "top": null,
            "grid_column": null,
            "overflow_y": null,
            "overflow_x": null,
            "grid_auto_flow": null,
            "grid_area": null,
            "grid_template_columns": null,
            "flex": null,
            "_model_name": "LayoutModel",
            "justify_items": null,
            "grid_row": null,
            "max_height": null,
            "align_content": null,
            "visibility": null,
            "align_self": null,
            "height": null,
            "min_height": null,
            "padding": null,
            "grid_auto_rows": null,
            "grid_gap": null,
            "max_width": null,
            "order": null,
            "_view_module_version": "1.2.0",
            "grid_template_areas": null,
            "object_position": null,
            "object_fit": null,
            "grid_auto_columns": null,
            "margin": null,
            "display": null,
            "left": null
          }
        },
        "77608bf976a746b3b4bc48a37abda8b2": {
          "model_module": "@jupyter-widgets/controls",
          "model_name": "HBoxModel",
          "state": {
            "_view_name": "HBoxView",
            "_dom_classes": [],
            "_model_name": "HBoxModel",
            "_view_module": "@jupyter-widgets/controls",
            "_model_module_version": "1.5.0",
            "_view_count": null,
            "_view_module_version": "1.5.0",
            "box_style": "",
            "layout": "IPY_MODEL_5bf2277d334948528e5cd36ca919b050",
            "_model_module": "@jupyter-widgets/controls",
            "children": [
              "IPY_MODEL_6e54fd57d0cd4342847c72175e41a7b9",
              "IPY_MODEL_e8dbd910adb24e94b584db23e3bb921e"
            ]
          }
        },
        "5bf2277d334948528e5cd36ca919b050": {
          "model_module": "@jupyter-widgets/base",
          "model_name": "LayoutModel",
          "state": {
            "_view_name": "LayoutView",
            "grid_template_rows": null,
            "right": null,
            "justify_content": null,
            "_view_module": "@jupyter-widgets/base",
            "overflow": null,
            "_model_module_version": "1.2.0",
            "_view_count": null,
            "flex_flow": null,
            "width": null,
            "min_width": null,
            "border": null,
            "align_items": null,
            "bottom": null,
            "_model_module": "@jupyter-widgets/base",
            "top": null,
            "grid_column": null,
            "overflow_y": null,
            "overflow_x": null,
            "grid_auto_flow": null,
            "grid_area": null,
            "grid_template_columns": null,
            "flex": null,
            "_model_name": "LayoutModel",
            "justify_items": null,
            "grid_row": null,
            "max_height": null,
            "align_content": null,
            "visibility": null,
            "align_self": null,
            "height": null,
            "min_height": null,
            "padding": null,
            "grid_auto_rows": null,
            "grid_gap": null,
            "max_width": null,
            "order": null,
            "_view_module_version": "1.2.0",
            "grid_template_areas": null,
            "object_position": null,
            "object_fit": null,
            "grid_auto_columns": null,
            "margin": null,
            "display": null,
            "left": null
          }
        },
        "6e54fd57d0cd4342847c72175e41a7b9": {
          "model_module": "@jupyter-widgets/controls",
          "model_name": "FloatProgressModel",
          "state": {
            "_view_name": "ProgressView",
            "style": "IPY_MODEL_f6cfd89545a740ddade73c8d07ee9590",
            "_dom_classes": [],
            "description": "Downloading: ",
            "_model_name": "FloatProgressModel",
            "bar_style": "success",
            "max": 963,
            "_view_module": "@jupyter-widgets/controls",
            "_model_module_version": "1.5.0",
            "value": 963,
            "_view_count": null,
            "_view_module_version": "1.5.0",
            "orientation": "horizontal",
            "min": 0,
            "description_tooltip": null,
            "_model_module": "@jupyter-widgets/controls",
            "layout": "IPY_MODEL_592d81dc1e374bbc9c7353ed2df7e75d"
          }
        },
        "e8dbd910adb24e94b584db23e3bb921e": {
          "model_module": "@jupyter-widgets/controls",
          "model_name": "HTMLModel",
          "state": {
            "_view_name": "HTMLView",
            "style": "IPY_MODEL_89fcd80531274f478f21872d62d9d7ad",
            "_dom_classes": [],
            "description": "",
            "_model_name": "HTMLModel",
            "placeholder": "​",
            "_view_module": "@jupyter-widgets/controls",
            "_model_module_version": "1.5.0",
            "value": " 2.23k/? [00:00&lt;00:00, 33.9kB/s]",
            "_view_count": null,
            "_view_module_version": "1.5.0",
            "description_tooltip": null,
            "_model_module": "@jupyter-widgets/controls",
            "layout": "IPY_MODEL_3681e46aa231477ab75053c10f2be13f"
          }
        },
        "f6cfd89545a740ddade73c8d07ee9590": {
          "model_module": "@jupyter-widgets/controls",
          "model_name": "ProgressStyleModel",
          "state": {
            "_view_name": "StyleView",
            "_model_name": "ProgressStyleModel",
            "description_width": "initial",
            "_view_module": "@jupyter-widgets/base",
            "_model_module_version": "1.5.0",
            "_view_count": null,
            "_view_module_version": "1.2.0",
            "bar_color": null,
            "_model_module": "@jupyter-widgets/controls"
          }
        },
        "592d81dc1e374bbc9c7353ed2df7e75d": {
          "model_module": "@jupyter-widgets/base",
          "model_name": "LayoutModel",
          "state": {
            "_view_name": "LayoutView",
            "grid_template_rows": null,
            "right": null,
            "justify_content": null,
            "_view_module": "@jupyter-widgets/base",
            "overflow": null,
            "_model_module_version": "1.2.0",
            "_view_count": null,
            "flex_flow": null,
            "width": null,
            "min_width": null,
            "border": null,
            "align_items": null,
            "bottom": null,
            "_model_module": "@jupyter-widgets/base",
            "top": null,
            "grid_column": null,
            "overflow_y": null,
            "overflow_x": null,
            "grid_auto_flow": null,
            "grid_area": null,
            "grid_template_columns": null,
            "flex": null,
            "_model_name": "LayoutModel",
            "justify_items": null,
            "grid_row": null,
            "max_height": null,
            "align_content": null,
            "visibility": null,
            "align_self": null,
            "height": null,
            "min_height": null,
            "padding": null,
            "grid_auto_rows": null,
            "grid_gap": null,
            "max_width": null,
            "order": null,
            "_view_module_version": "1.2.0",
            "grid_template_areas": null,
            "object_position": null,
            "object_fit": null,
            "grid_auto_columns": null,
            "margin": null,
            "display": null,
            "left": null
          }
        },
        "89fcd80531274f478f21872d62d9d7ad": {
          "model_module": "@jupyter-widgets/controls",
          "model_name": "DescriptionStyleModel",
          "state": {
            "_view_name": "StyleView",
            "_model_name": "DescriptionStyleModel",
            "description_width": "",
            "_view_module": "@jupyter-widgets/base",
            "_model_module_version": "1.5.0",
            "_view_count": null,
            "_view_module_version": "1.2.0",
            "_model_module": "@jupyter-widgets/controls"
          }
        },
        "3681e46aa231477ab75053c10f2be13f": {
          "model_module": "@jupyter-widgets/base",
          "model_name": "LayoutModel",
          "state": {
            "_view_name": "LayoutView",
            "grid_template_rows": null,
            "right": null,
            "justify_content": null,
            "_view_module": "@jupyter-widgets/base",
            "overflow": null,
            "_model_module_version": "1.2.0",
            "_view_count": null,
            "flex_flow": null,
            "width": null,
            "min_width": null,
            "border": null,
            "align_items": null,
            "bottom": null,
            "_model_module": "@jupyter-widgets/base",
            "top": null,
            "grid_column": null,
            "overflow_y": null,
            "overflow_x": null,
            "grid_auto_flow": null,
            "grid_area": null,
            "grid_template_columns": null,
            "flex": null,
            "_model_name": "LayoutModel",
            "justify_items": null,
            "grid_row": null,
            "max_height": null,
            "align_content": null,
            "visibility": null,
            "align_self": null,
            "height": null,
            "min_height": null,
            "padding": null,
            "grid_auto_rows": null,
            "grid_gap": null,
            "max_width": null,
            "order": null,
            "_view_module_version": "1.2.0",
            "grid_template_areas": null,
            "object_position": null,
            "object_fit": null,
            "grid_auto_columns": null,
            "margin": null,
            "display": null,
            "left": null
          }
        },
        "f2e9ad87d8e0425b97cd810d63a9d601": {
          "model_module": "@jupyter-widgets/controls",
          "model_name": "HBoxModel",
          "state": {
            "_view_name": "HBoxView",
            "_dom_classes": [],
            "_model_name": "HBoxModel",
            "_view_module": "@jupyter-widgets/controls",
            "_model_module_version": "1.5.0",
            "_view_count": null,
            "_view_module_version": "1.5.0",
            "box_style": "",
            "layout": "IPY_MODEL_8635dd9e819a4395b1e7a37f042b53f6",
            "_model_module": "@jupyter-widgets/controls",
            "children": [
              "IPY_MODEL_411a5812e28045309ae8c472d0b4cd42",
              "IPY_MODEL_dc3fdafaf943470396c5ccb8dbfe4c47"
            ]
          }
        },
        "8635dd9e819a4395b1e7a37f042b53f6": {
          "model_module": "@jupyter-widgets/base",
          "model_name": "LayoutModel",
          "state": {
            "_view_name": "LayoutView",
            "grid_template_rows": null,
            "right": null,
            "justify_content": null,
            "_view_module": "@jupyter-widgets/base",
            "overflow": null,
            "_model_module_version": "1.2.0",
            "_view_count": null,
            "flex_flow": null,
            "width": null,
            "min_width": null,
            "border": null,
            "align_items": null,
            "bottom": null,
            "_model_module": "@jupyter-widgets/base",
            "top": null,
            "grid_column": null,
            "overflow_y": null,
            "overflow_x": null,
            "grid_auto_flow": null,
            "grid_area": null,
            "grid_template_columns": null,
            "flex": null,
            "_model_name": "LayoutModel",
            "justify_items": null,
            "grid_row": null,
            "max_height": null,
            "align_content": null,
            "visibility": null,
            "align_self": null,
            "height": null,
            "min_height": null,
            "padding": null,
            "grid_auto_rows": null,
            "grid_gap": null,
            "max_width": null,
            "order": null,
            "_view_module_version": "1.2.0",
            "grid_template_areas": null,
            "object_position": null,
            "object_fit": null,
            "grid_auto_columns": null,
            "margin": null,
            "display": null,
            "left": null
          }
        },
        "411a5812e28045309ae8c472d0b4cd42": {
          "model_module": "@jupyter-widgets/controls",
          "model_name": "FloatProgressModel",
          "state": {
            "_view_name": "ProgressView",
            "style": "IPY_MODEL_bdd3d4014386471dad38e9aa4bba329e",
            "_dom_classes": [],
            "description": "Downloading: ",
            "_model_name": "FloatProgressModel",
            "bar_style": "success",
            "max": 9551051,
            "_view_module": "@jupyter-widgets/controls",
            "_model_module_version": "1.5.0",
            "value": 9551051,
            "_view_count": null,
            "_view_module_version": "1.5.0",
            "orientation": "horizontal",
            "min": 0,
            "description_tooltip": null,
            "_model_module": "@jupyter-widgets/controls",
            "layout": "IPY_MODEL_ebcb905a684241eda5719675454c4b2d"
          }
        },
        "dc3fdafaf943470396c5ccb8dbfe4c47": {
          "model_module": "@jupyter-widgets/controls",
          "model_name": "HTMLModel",
          "state": {
            "_view_name": "HTMLView",
            "style": "IPY_MODEL_1e50c2ee44324e3ab972f288cd54f688",
            "_dom_classes": [],
            "description": "",
            "_model_name": "HTMLModel",
            "placeholder": "​",
            "_view_module": "@jupyter-widgets/controls",
            "_model_module_version": "1.5.0",
            "value": " 42.1M/? [00:00&lt;00:00, 48.2MB/s]",
            "_view_count": null,
            "_view_module_version": "1.5.0",
            "description_tooltip": null,
            "_model_module": "@jupyter-widgets/controls",
            "layout": "IPY_MODEL_a9a02e2f754447e7bf52fbd194dd0a7d"
          }
        },
        "bdd3d4014386471dad38e9aa4bba329e": {
          "model_module": "@jupyter-widgets/controls",
          "model_name": "ProgressStyleModel",
          "state": {
            "_view_name": "StyleView",
            "_model_name": "ProgressStyleModel",
            "description_width": "initial",
            "_view_module": "@jupyter-widgets/base",
            "_model_module_version": "1.5.0",
            "_view_count": null,
            "_view_module_version": "1.2.0",
            "bar_color": null,
            "_model_module": "@jupyter-widgets/controls"
          }
        },
        "ebcb905a684241eda5719675454c4b2d": {
          "model_module": "@jupyter-widgets/base",
          "model_name": "LayoutModel",
          "state": {
            "_view_name": "LayoutView",
            "grid_template_rows": null,
            "right": null,
            "justify_content": null,
            "_view_module": "@jupyter-widgets/base",
            "overflow": null,
            "_model_module_version": "1.2.0",
            "_view_count": null,
            "flex_flow": null,
            "width": null,
            "min_width": null,
            "border": null,
            "align_items": null,
            "bottom": null,
            "_model_module": "@jupyter-widgets/base",
            "top": null,
            "grid_column": null,
            "overflow_y": null,
            "overflow_x": null,
            "grid_auto_flow": null,
            "grid_area": null,
            "grid_template_columns": null,
            "flex": null,
            "_model_name": "LayoutModel",
            "justify_items": null,
            "grid_row": null,
            "max_height": null,
            "align_content": null,
            "visibility": null,
            "align_self": null,
            "height": null,
            "min_height": null,
            "padding": null,
            "grid_auto_rows": null,
            "grid_gap": null,
            "max_width": null,
            "order": null,
            "_view_module_version": "1.2.0",
            "grid_template_areas": null,
            "object_position": null,
            "object_fit": null,
            "grid_auto_columns": null,
            "margin": null,
            "display": null,
            "left": null
          }
        },
        "1e50c2ee44324e3ab972f288cd54f688": {
          "model_module": "@jupyter-widgets/controls",
          "model_name": "DescriptionStyleModel",
          "state": {
            "_view_name": "StyleView",
            "_model_name": "DescriptionStyleModel",
            "description_width": "",
            "_view_module": "@jupyter-widgets/base",
            "_model_module_version": "1.5.0",
            "_view_count": null,
            "_view_module_version": "1.2.0",
            "_model_module": "@jupyter-widgets/controls"
          }
        },
        "a9a02e2f754447e7bf52fbd194dd0a7d": {
          "model_module": "@jupyter-widgets/base",
          "model_name": "LayoutModel",
          "state": {
            "_view_name": "LayoutView",
            "grid_template_rows": null,
            "right": null,
            "justify_content": null,
            "_view_module": "@jupyter-widgets/base",
            "overflow": null,
            "_model_module_version": "1.2.0",
            "_view_count": null,
            "flex_flow": null,
            "width": null,
            "min_width": null,
            "border": null,
            "align_items": null,
            "bottom": null,
            "_model_module": "@jupyter-widgets/base",
            "top": null,
            "grid_column": null,
            "overflow_y": null,
            "overflow_x": null,
            "grid_auto_flow": null,
            "grid_area": null,
            "grid_template_columns": null,
            "flex": null,
            "_model_name": "LayoutModel",
            "justify_items": null,
            "grid_row": null,
            "max_height": null,
            "align_content": null,
            "visibility": null,
            "align_self": null,
            "height": null,
            "min_height": null,
            "padding": null,
            "grid_auto_rows": null,
            "grid_gap": null,
            "max_width": null,
            "order": null,
            "_view_module_version": "1.2.0",
            "grid_template_areas": null,
            "object_position": null,
            "object_fit": null,
            "grid_auto_columns": null,
            "margin": null,
            "display": null,
            "left": null
          }
        },
        "07b7ce86777642239165092311723e1b": {
          "model_module": "@jupyter-widgets/controls",
          "model_name": "HBoxModel",
          "state": {
            "_view_name": "HBoxView",
            "_dom_classes": [],
            "_model_name": "HBoxModel",
            "_view_module": "@jupyter-widgets/controls",
            "_model_module_version": "1.5.0",
            "_view_count": null,
            "_view_module_version": "1.5.0",
            "box_style": "",
            "layout": "IPY_MODEL_0393610f48b1417db50f13e32db6d3d4",
            "_model_module": "@jupyter-widgets/controls",
            "children": [
              "IPY_MODEL_d410e28bfe7642f496015b5c3248383a",
              "IPY_MODEL_3e3664b679b149ba8857b10b22622ac0"
            ]
          }
        },
        "0393610f48b1417db50f13e32db6d3d4": {
          "model_module": "@jupyter-widgets/base",
          "model_name": "LayoutModel",
          "state": {
            "_view_name": "LayoutView",
            "grid_template_rows": null,
            "right": null,
            "justify_content": null,
            "_view_module": "@jupyter-widgets/base",
            "overflow": null,
            "_model_module_version": "1.2.0",
            "_view_count": null,
            "flex_flow": null,
            "width": null,
            "min_width": null,
            "border": null,
            "align_items": null,
            "bottom": null,
            "_model_module": "@jupyter-widgets/base",
            "top": null,
            "grid_column": null,
            "overflow_y": null,
            "overflow_x": null,
            "grid_auto_flow": null,
            "grid_area": null,
            "grid_template_columns": null,
            "flex": null,
            "_model_name": "LayoutModel",
            "justify_items": null,
            "grid_row": null,
            "max_height": null,
            "align_content": null,
            "visibility": null,
            "align_self": null,
            "height": null,
            "min_height": null,
            "padding": null,
            "grid_auto_rows": null,
            "grid_gap": null,
            "max_width": null,
            "order": null,
            "_view_module_version": "1.2.0",
            "grid_template_areas": null,
            "object_position": null,
            "object_fit": null,
            "grid_auto_columns": null,
            "margin": null,
            "display": null,
            "left": null
          }
        },
        "d410e28bfe7642f496015b5c3248383a": {
          "model_module": "@jupyter-widgets/controls",
          "model_name": "FloatProgressModel",
          "state": {
            "_view_name": "ProgressView",
            "style": "IPY_MODEL_5564d997fb8245309373a7560ecaff39",
            "_dom_classes": [],
            "description": "Downloading: ",
            "_model_name": "FloatProgressModel",
            "bar_style": "success",
            "max": 800683,
            "_view_module": "@jupyter-widgets/controls",
            "_model_module_version": "1.5.0",
            "value": 800683,
            "_view_count": null,
            "_view_module_version": "1.5.0",
            "orientation": "horizontal",
            "min": 0,
            "description_tooltip": null,
            "_model_module": "@jupyter-widgets/controls",
            "layout": "IPY_MODEL_babae8b9f70742edb6a355e3e0cea3f8"
          }
        },
        "3e3664b679b149ba8857b10b22622ac0": {
          "model_module": "@jupyter-widgets/controls",
          "model_name": "HTMLModel",
          "state": {
            "_view_name": "HTMLView",
            "style": "IPY_MODEL_347b66094b5c44b3b4d894dc906bd3c2",
            "_dom_classes": [],
            "description": "",
            "_model_name": "HTMLModel",
            "placeholder": "​",
            "_view_module": "@jupyter-widgets/controls",
            "_model_module_version": "1.5.0",
            "value": " 4.37M/? [00:00&lt;00:00, 9.26MB/s]",
            "_view_count": null,
            "_view_module_version": "1.5.0",
            "description_tooltip": null,
            "_model_module": "@jupyter-widgets/controls",
            "layout": "IPY_MODEL_8107ed1923234e73b7e6149153e16657"
          }
        },
        "5564d997fb8245309373a7560ecaff39": {
          "model_module": "@jupyter-widgets/controls",
          "model_name": "ProgressStyleModel",
          "state": {
            "_view_name": "StyleView",
            "_model_name": "ProgressStyleModel",
            "description_width": "initial",
            "_view_module": "@jupyter-widgets/base",
            "_model_module_version": "1.5.0",
            "_view_count": null,
            "_view_module_version": "1.2.0",
            "bar_color": null,
            "_model_module": "@jupyter-widgets/controls"
          }
        },
        "babae8b9f70742edb6a355e3e0cea3f8": {
          "model_module": "@jupyter-widgets/base",
          "model_name": "LayoutModel",
          "state": {
            "_view_name": "LayoutView",
            "grid_template_rows": null,
            "right": null,
            "justify_content": null,
            "_view_module": "@jupyter-widgets/base",
            "overflow": null,
            "_model_module_version": "1.2.0",
            "_view_count": null,
            "flex_flow": null,
            "width": null,
            "min_width": null,
            "border": null,
            "align_items": null,
            "bottom": null,
            "_model_module": "@jupyter-widgets/base",
            "top": null,
            "grid_column": null,
            "overflow_y": null,
            "overflow_x": null,
            "grid_auto_flow": null,
            "grid_area": null,
            "grid_template_columns": null,
            "flex": null,
            "_model_name": "LayoutModel",
            "justify_items": null,
            "grid_row": null,
            "max_height": null,
            "align_content": null,
            "visibility": null,
            "align_self": null,
            "height": null,
            "min_height": null,
            "padding": null,
            "grid_auto_rows": null,
            "grid_gap": null,
            "max_width": null,
            "order": null,
            "_view_module_version": "1.2.0",
            "grid_template_areas": null,
            "object_position": null,
            "object_fit": null,
            "grid_auto_columns": null,
            "margin": null,
            "display": null,
            "left": null
          }
        },
        "347b66094b5c44b3b4d894dc906bd3c2": {
          "model_module": "@jupyter-widgets/controls",
          "model_name": "DescriptionStyleModel",
          "state": {
            "_view_name": "StyleView",
            "_model_name": "DescriptionStyleModel",
            "description_width": "",
            "_view_module": "@jupyter-widgets/base",
            "_model_module_version": "1.5.0",
            "_view_count": null,
            "_view_module_version": "1.2.0",
            "_model_module": "@jupyter-widgets/controls"
          }
        },
        "8107ed1923234e73b7e6149153e16657": {
          "model_module": "@jupyter-widgets/base",
          "model_name": "LayoutModel",
          "state": {
            "_view_name": "LayoutView",
            "grid_template_rows": null,
            "right": null,
            "justify_content": null,
            "_view_module": "@jupyter-widgets/base",
            "overflow": null,
            "_model_module_version": "1.2.0",
            "_view_count": null,
            "flex_flow": null,
            "width": null,
            "min_width": null,
            "border": null,
            "align_items": null,
            "bottom": null,
            "_model_module": "@jupyter-widgets/base",
            "top": null,
            "grid_column": null,
            "overflow_y": null,
            "overflow_x": null,
            "grid_auto_flow": null,
            "grid_area": null,
            "grid_template_columns": null,
            "flex": null,
            "_model_name": "LayoutModel",
            "justify_items": null,
            "grid_row": null,
            "max_height": null,
            "align_content": null,
            "visibility": null,
            "align_self": null,
            "height": null,
            "min_height": null,
            "padding": null,
            "grid_auto_rows": null,
            "grid_gap": null,
            "max_width": null,
            "order": null,
            "_view_module_version": "1.2.0",
            "grid_template_areas": null,
            "object_position": null,
            "object_fit": null,
            "grid_auto_columns": null,
            "margin": null,
            "display": null,
            "left": null
          }
        },
        "bf8a942263a94f08b9c3806f5afd8238": {
          "model_module": "@jupyter-widgets/controls",
          "model_name": "HBoxModel",
          "state": {
            "_view_name": "HBoxView",
            "_dom_classes": [],
            "_model_name": "HBoxModel",
            "_view_module": "@jupyter-widgets/controls",
            "_model_module_version": "1.5.0",
            "_view_count": null,
            "_view_module_version": "1.5.0",
            "box_style": "",
            "layout": "IPY_MODEL_0180418f634146f682f93975be4bfb84",
            "_model_module": "@jupyter-widgets/controls",
            "children": [
              "IPY_MODEL_ac8ea484df5b45838bed029066c148ca",
              "IPY_MODEL_cdfa3c4dde8946178cb3730bceff580f"
            ]
          }
        },
        "0180418f634146f682f93975be4bfb84": {
          "model_module": "@jupyter-widgets/base",
          "model_name": "LayoutModel",
          "state": {
            "_view_name": "LayoutView",
            "grid_template_rows": null,
            "right": null,
            "justify_content": null,
            "_view_module": "@jupyter-widgets/base",
            "overflow": null,
            "_model_module_version": "1.2.0",
            "_view_count": null,
            "flex_flow": null,
            "width": null,
            "min_width": null,
            "border": null,
            "align_items": null,
            "bottom": null,
            "_model_module": "@jupyter-widgets/base",
            "top": null,
            "grid_column": null,
            "overflow_y": null,
            "overflow_x": null,
            "grid_auto_flow": null,
            "grid_area": null,
            "grid_template_columns": null,
            "flex": null,
            "_model_name": "LayoutModel",
            "justify_items": null,
            "grid_row": null,
            "max_height": null,
            "align_content": null,
            "visibility": null,
            "align_self": null,
            "height": null,
            "min_height": null,
            "padding": null,
            "grid_auto_rows": null,
            "grid_gap": null,
            "max_width": null,
            "order": null,
            "_view_module_version": "1.2.0",
            "grid_template_areas": null,
            "object_position": null,
            "object_fit": null,
            "grid_auto_columns": null,
            "margin": null,
            "display": null,
            "left": null
          }
        },
        "ac8ea484df5b45838bed029066c148ca": {
          "model_module": "@jupyter-widgets/controls",
          "model_name": "FloatProgressModel",
          "state": {
            "_view_name": "ProgressView",
            "style": "IPY_MODEL_a4ee13671b684e539bacdd76d54d9fc5",
            "_dom_classes": [],
            "description": "",
            "_model_name": "FloatProgressModel",
            "bar_style": "info",
            "max": 1,
            "_view_module": "@jupyter-widgets/controls",
            "_model_module_version": "1.5.0",
            "value": 1,
            "_view_count": null,
            "_view_module_version": "1.5.0",
            "orientation": "horizontal",
            "min": 0,
            "description_tooltip": null,
            "_model_module": "@jupyter-widgets/controls",
            "layout": "IPY_MODEL_285e9b94fecc4bab8085c6d3e2798769"
          }
        },
        "cdfa3c4dde8946178cb3730bceff580f": {
          "model_module": "@jupyter-widgets/controls",
          "model_name": "HTMLModel",
          "state": {
            "_view_name": "HTMLView",
            "style": "IPY_MODEL_4487b81782af433ebf724993773a4cfc",
            "_dom_classes": [],
            "description": "",
            "_model_name": "HTMLModel",
            "placeholder": "​",
            "_view_module": "@jupyter-widgets/controls",
            "_model_module_version": "1.5.0",
            "value": " 130319/0 [00:13&lt;00:00, 14503.93 examples/s]",
            "_view_count": null,
            "_view_module_version": "1.5.0",
            "description_tooltip": null,
            "_model_module": "@jupyter-widgets/controls",
            "layout": "IPY_MODEL_b0649e8f1de9464da0408f3c9f4af49f"
          }
        },
        "a4ee13671b684e539bacdd76d54d9fc5": {
          "model_module": "@jupyter-widgets/controls",
          "model_name": "ProgressStyleModel",
          "state": {
            "_view_name": "StyleView",
            "_model_name": "ProgressStyleModel",
            "description_width": "initial",
            "_view_module": "@jupyter-widgets/base",
            "_model_module_version": "1.5.0",
            "_view_count": null,
            "_view_module_version": "1.2.0",
            "bar_color": null,
            "_model_module": "@jupyter-widgets/controls"
          }
        },
        "285e9b94fecc4bab8085c6d3e2798769": {
          "model_module": "@jupyter-widgets/base",
          "model_name": "LayoutModel",
          "state": {
            "_view_name": "LayoutView",
            "grid_template_rows": null,
            "right": null,
            "justify_content": null,
            "_view_module": "@jupyter-widgets/base",
            "overflow": null,
            "_model_module_version": "1.2.0",
            "_view_count": null,
            "flex_flow": null,
            "width": null,
            "min_width": null,
            "border": null,
            "align_items": null,
            "bottom": null,
            "_model_module": "@jupyter-widgets/base",
            "top": null,
            "grid_column": null,
            "overflow_y": null,
            "overflow_x": null,
            "grid_auto_flow": null,
            "grid_area": null,
            "grid_template_columns": null,
            "flex": null,
            "_model_name": "LayoutModel",
            "justify_items": null,
            "grid_row": null,
            "max_height": null,
            "align_content": null,
            "visibility": null,
            "align_self": null,
            "height": null,
            "min_height": null,
            "padding": null,
            "grid_auto_rows": null,
            "grid_gap": null,
            "max_width": null,
            "order": null,
            "_view_module_version": "1.2.0",
            "grid_template_areas": null,
            "object_position": null,
            "object_fit": null,
            "grid_auto_columns": null,
            "margin": null,
            "display": null,
            "left": null
          }
        },
        "4487b81782af433ebf724993773a4cfc": {
          "model_module": "@jupyter-widgets/controls",
          "model_name": "DescriptionStyleModel",
          "state": {
            "_view_name": "StyleView",
            "_model_name": "DescriptionStyleModel",
            "description_width": "",
            "_view_module": "@jupyter-widgets/base",
            "_model_module_version": "1.5.0",
            "_view_count": null,
            "_view_module_version": "1.2.0",
            "_model_module": "@jupyter-widgets/controls"
          }
        },
        "b0649e8f1de9464da0408f3c9f4af49f": {
          "model_module": "@jupyter-widgets/base",
          "model_name": "LayoutModel",
          "state": {
            "_view_name": "LayoutView",
            "grid_template_rows": null,
            "right": null,
            "justify_content": null,
            "_view_module": "@jupyter-widgets/base",
            "overflow": null,
            "_model_module_version": "1.2.0",
            "_view_count": null,
            "flex_flow": null,
            "width": null,
            "min_width": null,
            "border": null,
            "align_items": null,
            "bottom": null,
            "_model_module": "@jupyter-widgets/base",
            "top": null,
            "grid_column": null,
            "overflow_y": null,
            "overflow_x": null,
            "grid_auto_flow": null,
            "grid_area": null,
            "grid_template_columns": null,
            "flex": null,
            "_model_name": "LayoutModel",
            "justify_items": null,
            "grid_row": null,
            "max_height": null,
            "align_content": null,
            "visibility": null,
            "align_self": null,
            "height": null,
            "min_height": null,
            "padding": null,
            "grid_auto_rows": null,
            "grid_gap": null,
            "max_width": null,
            "order": null,
            "_view_module_version": "1.2.0",
            "grid_template_areas": null,
            "object_position": null,
            "object_fit": null,
            "grid_auto_columns": null,
            "margin": null,
            "display": null,
            "left": null
          }
        },
        "1d7de768ab4541a89486700e0862259d": {
          "model_module": "@jupyter-widgets/controls",
          "model_name": "HBoxModel",
          "state": {
            "_view_name": "HBoxView",
            "_dom_classes": [],
            "_model_name": "HBoxModel",
            "_view_module": "@jupyter-widgets/controls",
            "_model_module_version": "1.5.0",
            "_view_count": null,
            "_view_module_version": "1.5.0",
            "box_style": "",
            "layout": "IPY_MODEL_fa292bbd137f4a2fb41db5aa21c88c39",
            "_model_module": "@jupyter-widgets/controls",
            "children": [
              "IPY_MODEL_df9fcc15f9424126b4e06003d9dce85b",
              "IPY_MODEL_432bb4d0ad2649959400bdf1aa3410d6"
            ]
          }
        },
        "fa292bbd137f4a2fb41db5aa21c88c39": {
          "model_module": "@jupyter-widgets/base",
          "model_name": "LayoutModel",
          "state": {
            "_view_name": "LayoutView",
            "grid_template_rows": null,
            "right": null,
            "justify_content": null,
            "_view_module": "@jupyter-widgets/base",
            "overflow": null,
            "_model_module_version": "1.2.0",
            "_view_count": null,
            "flex_flow": null,
            "width": null,
            "min_width": null,
            "border": null,
            "align_items": null,
            "bottom": null,
            "_model_module": "@jupyter-widgets/base",
            "top": null,
            "grid_column": null,
            "overflow_y": null,
            "overflow_x": null,
            "grid_auto_flow": null,
            "grid_area": null,
            "grid_template_columns": null,
            "flex": null,
            "_model_name": "LayoutModel",
            "justify_items": null,
            "grid_row": null,
            "max_height": null,
            "align_content": null,
            "visibility": null,
            "align_self": null,
            "height": null,
            "min_height": null,
            "padding": null,
            "grid_auto_rows": null,
            "grid_gap": null,
            "max_width": null,
            "order": null,
            "_view_module_version": "1.2.0",
            "grid_template_areas": null,
            "object_position": null,
            "object_fit": null,
            "grid_auto_columns": null,
            "margin": null,
            "display": null,
            "left": null
          }
        },
        "df9fcc15f9424126b4e06003d9dce85b": {
          "model_module": "@jupyter-widgets/controls",
          "model_name": "FloatProgressModel",
          "state": {
            "_view_name": "ProgressView",
            "style": "IPY_MODEL_16078a52a04945d5a696e231aaa06524",
            "_dom_classes": [],
            "description": "",
            "_model_name": "FloatProgressModel",
            "bar_style": "info",
            "max": 1,
            "_view_module": "@jupyter-widgets/controls",
            "_model_module_version": "1.5.0",
            "value": 1,
            "_view_count": null,
            "_view_module_version": "1.5.0",
            "orientation": "horizontal",
            "min": 0,
            "description_tooltip": null,
            "_model_module": "@jupyter-widgets/controls",
            "layout": "IPY_MODEL_fb48b4982cd142008fba1538158a9993"
          }
        },
        "432bb4d0ad2649959400bdf1aa3410d6": {
          "model_module": "@jupyter-widgets/controls",
          "model_name": "HTMLModel",
          "state": {
            "_view_name": "HTMLView",
            "style": "IPY_MODEL_a45e7b42cdea41d487c203edc98ca5b6",
            "_dom_classes": [],
            "description": "",
            "_model_name": "HTMLModel",
            "placeholder": "​",
            "_view_module": "@jupyter-widgets/controls",
            "_model_module_version": "1.5.0",
            "value": " 11873/0 [00:00&lt;00:00, 8051.97 examples/s]",
            "_view_count": null,
            "_view_module_version": "1.5.0",
            "description_tooltip": null,
            "_model_module": "@jupyter-widgets/controls",
            "layout": "IPY_MODEL_46d122a36ad34d259129b5b89938f29c"
          }
        },
        "16078a52a04945d5a696e231aaa06524": {
          "model_module": "@jupyter-widgets/controls",
          "model_name": "ProgressStyleModel",
          "state": {
            "_view_name": "StyleView",
            "_model_name": "ProgressStyleModel",
            "description_width": "initial",
            "_view_module": "@jupyter-widgets/base",
            "_model_module_version": "1.5.0",
            "_view_count": null,
            "_view_module_version": "1.2.0",
            "bar_color": null,
            "_model_module": "@jupyter-widgets/controls"
          }
        },
        "fb48b4982cd142008fba1538158a9993": {
          "model_module": "@jupyter-widgets/base",
          "model_name": "LayoutModel",
          "state": {
            "_view_name": "LayoutView",
            "grid_template_rows": null,
            "right": null,
            "justify_content": null,
            "_view_module": "@jupyter-widgets/base",
            "overflow": null,
            "_model_module_version": "1.2.0",
            "_view_count": null,
            "flex_flow": null,
            "width": null,
            "min_width": null,
            "border": null,
            "align_items": null,
            "bottom": null,
            "_model_module": "@jupyter-widgets/base",
            "top": null,
            "grid_column": null,
            "overflow_y": null,
            "overflow_x": null,
            "grid_auto_flow": null,
            "grid_area": null,
            "grid_template_columns": null,
            "flex": null,
            "_model_name": "LayoutModel",
            "justify_items": null,
            "grid_row": null,
            "max_height": null,
            "align_content": null,
            "visibility": null,
            "align_self": null,
            "height": null,
            "min_height": null,
            "padding": null,
            "grid_auto_rows": null,
            "grid_gap": null,
            "max_width": null,
            "order": null,
            "_view_module_version": "1.2.0",
            "grid_template_areas": null,
            "object_position": null,
            "object_fit": null,
            "grid_auto_columns": null,
            "margin": null,
            "display": null,
            "left": null
          }
        },
        "a45e7b42cdea41d487c203edc98ca5b6": {
          "model_module": "@jupyter-widgets/controls",
          "model_name": "DescriptionStyleModel",
          "state": {
            "_view_name": "StyleView",
            "_model_name": "DescriptionStyleModel",
            "description_width": "",
            "_view_module": "@jupyter-widgets/base",
            "_model_module_version": "1.5.0",
            "_view_count": null,
            "_view_module_version": "1.2.0",
            "_model_module": "@jupyter-widgets/controls"
          }
        },
        "46d122a36ad34d259129b5b89938f29c": {
          "model_module": "@jupyter-widgets/base",
          "model_name": "LayoutModel",
          "state": {
            "_view_name": "LayoutView",
            "grid_template_rows": null,
            "right": null,
            "justify_content": null,
            "_view_module": "@jupyter-widgets/base",
            "overflow": null,
            "_model_module_version": "1.2.0",
            "_view_count": null,
            "flex_flow": null,
            "width": null,
            "min_width": null,
            "border": null,
            "align_items": null,
            "bottom": null,
            "_model_module": "@jupyter-widgets/base",
            "top": null,
            "grid_column": null,
            "overflow_y": null,
            "overflow_x": null,
            "grid_auto_flow": null,
            "grid_area": null,
            "grid_template_columns": null,
            "flex": null,
            "_model_name": "LayoutModel",
            "justify_items": null,
            "grid_row": null,
            "max_height": null,
            "align_content": null,
            "visibility": null,
            "align_self": null,
            "height": null,
            "min_height": null,
            "padding": null,
            "grid_auto_rows": null,
            "grid_gap": null,
            "max_width": null,
            "order": null,
            "_view_module_version": "1.2.0",
            "grid_template_areas": null,
            "object_position": null,
            "object_fit": null,
            "grid_auto_columns": null,
            "margin": null,
            "display": null,
            "left": null
          }
        }
      }
    },
    "accelerator": "GPU"
  },
  "cells": [
    {
      "cell_type": "markdown",
      "metadata": {
        "id": "yNDEqjUv-VY7"
      },
      "source": [
        "SQuAD 2.0 Exploratory Data Analysis"
      ]
    },
    {
      "cell_type": "code",
      "metadata": {
        "colab": {
          "base_uri": "https://localhost:8080/"
        },
        "id": "yhLOOPrg-eEL",
        "outputId": "0f87219b-88de-4f47-94a0-650d94c7604b"
      },
      "source": [
        "# pip install huggingface datasets\n",
        "!pip install datasets"
      ],
      "execution_count": null,
      "outputs": [
        {
          "output_type": "stream",
          "text": [
            "Collecting datasets\n",
            "\u001b[?25l  Downloading https://files.pythonhosted.org/packages/54/90/43b396481a8298c6010afb93b3c1e71d4ba6f8c10797a7da8eb005e45081/datasets-1.5.0-py3-none-any.whl (192kB)\n",
            "\r\u001b[K     |█▊                              | 10kB 20.0MB/s eta 0:00:01\r\u001b[K     |███▍                            | 20kB 9.7MB/s eta 0:00:01\r\u001b[K     |█████                           | 30kB 8.7MB/s eta 0:00:01\r\u001b[K     |██████▉                         | 40kB 8.1MB/s eta 0:00:01\r\u001b[K     |████████▌                       | 51kB 5.3MB/s eta 0:00:01\r\u001b[K     |██████████▏                     | 61kB 5.4MB/s eta 0:00:01\r\u001b[K     |████████████                    | 71kB 5.9MB/s eta 0:00:01\r\u001b[K     |█████████████▋                  | 81kB 6.4MB/s eta 0:00:01\r\u001b[K     |███████████████▎                | 92kB 6.3MB/s eta 0:00:01\r\u001b[K     |█████████████████               | 102kB 5.3MB/s eta 0:00:01\r\u001b[K     |██████████████████▊             | 112kB 5.3MB/s eta 0:00:01\r\u001b[K     |████████████████████▍           | 122kB 5.3MB/s eta 0:00:01\r\u001b[K     |██████████████████████▏         | 133kB 5.3MB/s eta 0:00:01\r\u001b[K     |███████████████████████▉        | 143kB 5.3MB/s eta 0:00:01\r\u001b[K     |█████████████████████████▌      | 153kB 5.3MB/s eta 0:00:01\r\u001b[K     |███████████████████████████▎    | 163kB 5.3MB/s eta 0:00:01\r\u001b[K     |█████████████████████████████   | 174kB 5.3MB/s eta 0:00:01\r\u001b[K     |██████████████████████████████▋ | 184kB 5.3MB/s eta 0:00:01\r\u001b[K     |████████████████████████████████| 194kB 5.3MB/s \n",
            "\u001b[?25hRequirement already satisfied: pyarrow>=0.17.1 in /usr/local/lib/python3.7/dist-packages (from datasets) (3.0.0)\n",
            "Collecting xxhash\n",
            "\u001b[?25l  Downloading https://files.pythonhosted.org/packages/e7/27/1c0b37c53a7852f1c190ba5039404d27b3ae96a55f48203a74259f8213c9/xxhash-2.0.0-cp37-cp37m-manylinux2010_x86_64.whl (243kB)\n",
            "\u001b[K     |████████████████████████████████| 245kB 9.1MB/s \n",
            "\u001b[?25hRequirement already satisfied: importlib-metadata; python_version < \"3.8\" in /usr/local/lib/python3.7/dist-packages (from datasets) (3.8.1)\n",
            "Requirement already satisfied: requests>=2.19.0 in /usr/local/lib/python3.7/dist-packages (from datasets) (2.23.0)\n",
            "Requirement already satisfied: pandas in /usr/local/lib/python3.7/dist-packages (from datasets) (1.1.5)\n",
            "Requirement already satisfied: tqdm<4.50.0,>=4.27 in /usr/local/lib/python3.7/dist-packages (from datasets) (4.41.1)\n",
            "Collecting huggingface-hub<0.1.0\n",
            "  Downloading https://files.pythonhosted.org/packages/af/07/bf95f398e6598202d878332280f36e589512174882536eb20d792532a57d/huggingface_hub-0.0.7-py3-none-any.whl\n",
            "Requirement already satisfied: numpy>=1.17 in /usr/local/lib/python3.7/dist-packages (from datasets) (1.19.5)\n",
            "Requirement already satisfied: multiprocess in /usr/local/lib/python3.7/dist-packages (from datasets) (0.70.11.1)\n",
            "Requirement already satisfied: dill in /usr/local/lib/python3.7/dist-packages (from datasets) (0.3.3)\n",
            "Collecting fsspec\n",
            "\u001b[?25l  Downloading https://files.pythonhosted.org/packages/62/11/f7689b996f85e45f718745c899f6747ee5edb4878cadac0a41ab146828fa/fsspec-0.9.0-py3-none-any.whl (107kB)\n",
            "\u001b[K     |████████████████████████████████| 112kB 9.7MB/s \n",
            "\u001b[?25hRequirement already satisfied: typing-extensions>=3.6.4; python_version < \"3.8\" in /usr/local/lib/python3.7/dist-packages (from importlib-metadata; python_version < \"3.8\"->datasets) (3.7.4.3)\n",
            "Requirement already satisfied: zipp>=0.5 in /usr/local/lib/python3.7/dist-packages (from importlib-metadata; python_version < \"3.8\"->datasets) (3.4.1)\n",
            "Requirement already satisfied: chardet<4,>=3.0.2 in /usr/local/lib/python3.7/dist-packages (from requests>=2.19.0->datasets) (3.0.4)\n",
            "Requirement already satisfied: idna<3,>=2.5 in /usr/local/lib/python3.7/dist-packages (from requests>=2.19.0->datasets) (2.10)\n",
            "Requirement already satisfied: certifi>=2017.4.17 in /usr/local/lib/python3.7/dist-packages (from requests>=2.19.0->datasets) (2020.12.5)\n",
            "Requirement already satisfied: urllib3!=1.25.0,!=1.25.1,<1.26,>=1.21.1 in /usr/local/lib/python3.7/dist-packages (from requests>=2.19.0->datasets) (1.24.3)\n",
            "Requirement already satisfied: python-dateutil>=2.7.3 in /usr/local/lib/python3.7/dist-packages (from pandas->datasets) (2.8.1)\n",
            "Requirement already satisfied: pytz>=2017.2 in /usr/local/lib/python3.7/dist-packages (from pandas->datasets) (2018.9)\n",
            "Requirement already satisfied: filelock in /usr/local/lib/python3.7/dist-packages (from huggingface-hub<0.1.0->datasets) (3.0.12)\n",
            "Requirement already satisfied: six>=1.5 in /usr/local/lib/python3.7/dist-packages (from python-dateutil>=2.7.3->pandas->datasets) (1.15.0)\n",
            "Installing collected packages: xxhash, huggingface-hub, fsspec, datasets\n",
            "Successfully installed datasets-1.5.0 fsspec-0.9.0 huggingface-hub-0.0.7 xxhash-2.0.0\n"
          ],
          "name": "stdout"
        }
      ]
    },
    {
      "cell_type": "code",
      "metadata": {
        "colab": {
          "base_uri": "https://localhost:8080/",
          "height": 269,
          "referenced_widgets": [
            "ef1e3bc1be0a41edbd360b886cc326e1",
            "ba86850d4d904e39a8938235c928e188",
            "4fca4c40316a4ca5a742694f20aba7d6",
            "993fb2cbb5a7436b97275ed4a9376042",
            "9838bff0d2d14082b606660db766dd96",
            "96ddc1f10e2c439cac16efb7d6bf7b0c",
            "627089f6174f456c81133e2ce683303e",
            "1a133a95cbad4f81990de5b4bc571db0",
            "77608bf976a746b3b4bc48a37abda8b2",
            "5bf2277d334948528e5cd36ca919b050",
            "6e54fd57d0cd4342847c72175e41a7b9",
            "e8dbd910adb24e94b584db23e3bb921e",
            "f6cfd89545a740ddade73c8d07ee9590",
            "592d81dc1e374bbc9c7353ed2df7e75d",
            "89fcd80531274f478f21872d62d9d7ad",
            "3681e46aa231477ab75053c10f2be13f",
            "f2e9ad87d8e0425b97cd810d63a9d601",
            "8635dd9e819a4395b1e7a37f042b53f6",
            "411a5812e28045309ae8c472d0b4cd42",
            "dc3fdafaf943470396c5ccb8dbfe4c47",
            "bdd3d4014386471dad38e9aa4bba329e",
            "ebcb905a684241eda5719675454c4b2d",
            "1e50c2ee44324e3ab972f288cd54f688",
            "a9a02e2f754447e7bf52fbd194dd0a7d",
            "07b7ce86777642239165092311723e1b",
            "0393610f48b1417db50f13e32db6d3d4",
            "d410e28bfe7642f496015b5c3248383a",
            "3e3664b679b149ba8857b10b22622ac0",
            "5564d997fb8245309373a7560ecaff39",
            "babae8b9f70742edb6a355e3e0cea3f8",
            "347b66094b5c44b3b4d894dc906bd3c2",
            "8107ed1923234e73b7e6149153e16657",
            "bf8a942263a94f08b9c3806f5afd8238",
            "0180418f634146f682f93975be4bfb84",
            "ac8ea484df5b45838bed029066c148ca",
            "cdfa3c4dde8946178cb3730bceff580f",
            "a4ee13671b684e539bacdd76d54d9fc5",
            "285e9b94fecc4bab8085c6d3e2798769",
            "4487b81782af433ebf724993773a4cfc",
            "b0649e8f1de9464da0408f3c9f4af49f",
            "1d7de768ab4541a89486700e0862259d",
            "fa292bbd137f4a2fb41db5aa21c88c39",
            "df9fcc15f9424126b4e06003d9dce85b",
            "432bb4d0ad2649959400bdf1aa3410d6",
            "16078a52a04945d5a696e231aaa06524",
            "fb48b4982cd142008fba1538158a9993",
            "a45e7b42cdea41d487c203edc98ca5b6",
            "46d122a36ad34d259129b5b89938f29c"
          ]
        },
        "id": "f98cSeW9-h7h",
        "outputId": "931f5c93-2539-47ce-8199-b915716f7178"
      },
      "source": [
        "# import load_dataset\n",
        "from datasets import load_dataset\n",
        "\n",
        "# load squad 1.0 dataset\n",
        "dataset = load_dataset(\"squad_v2\")"
      ],
      "execution_count": null,
      "outputs": [
        {
          "output_type": "display_data",
          "data": {
            "application/vnd.jupyter.widget-view+json": {
              "model_id": "ef1e3bc1be0a41edbd360b886cc326e1",
              "version_minor": 0,
              "version_major": 2
            },
            "text/plain": [
              "HBox(children=(FloatProgress(value=0.0, description='Downloading', max=1806.0, style=ProgressStyle(description…"
            ]
          },
          "metadata": {
            "tags": []
          }
        },
        {
          "output_type": "stream",
          "text": [
            "\n"
          ],
          "name": "stdout"
        },
        {
          "output_type": "display_data",
          "data": {
            "application/vnd.jupyter.widget-view+json": {
              "model_id": "77608bf976a746b3b4bc48a37abda8b2",
              "version_minor": 0,
              "version_major": 2
            },
            "text/plain": [
              "HBox(children=(FloatProgress(value=0.0, description='Downloading', max=963.0, style=ProgressStyle(description_…"
            ]
          },
          "metadata": {
            "tags": []
          }
        },
        {
          "output_type": "stream",
          "text": [
            "\n",
            "Downloading and preparing dataset squad_v2/squad_v2 (download: 44.34 MiB, generated: 122.57 MiB, post-processed: Unknown size, total: 166.91 MiB) to /root/.cache/huggingface/datasets/squad_v2/squad_v2/2.0.0/9cac55034b086140f0649ecb5c604d09d7da2f2f5b73a90caa2e2bcc1f5cac09...\n"
          ],
          "name": "stdout"
        },
        {
          "output_type": "display_data",
          "data": {
            "application/vnd.jupyter.widget-view+json": {
              "model_id": "f2e9ad87d8e0425b97cd810d63a9d601",
              "version_minor": 0,
              "version_major": 2
            },
            "text/plain": [
              "HBox(children=(FloatProgress(value=0.0, description='Downloading', max=9551051.0, style=ProgressStyle(descript…"
            ]
          },
          "metadata": {
            "tags": []
          }
        },
        {
          "output_type": "stream",
          "text": [
            "\n"
          ],
          "name": "stdout"
        },
        {
          "output_type": "display_data",
          "data": {
            "application/vnd.jupyter.widget-view+json": {
              "model_id": "07b7ce86777642239165092311723e1b",
              "version_minor": 0,
              "version_major": 2
            },
            "text/plain": [
              "HBox(children=(FloatProgress(value=0.0, description='Downloading', max=800683.0, style=ProgressStyle(descripti…"
            ]
          },
          "metadata": {
            "tags": []
          }
        },
        {
          "output_type": "stream",
          "text": [
            "\n"
          ],
          "name": "stdout"
        },
        {
          "output_type": "display_data",
          "data": {
            "application/vnd.jupyter.widget-view+json": {
              "model_id": "bf8a942263a94f08b9c3806f5afd8238",
              "version_minor": 0,
              "version_major": 2
            },
            "text/plain": [
              "HBox(children=(FloatProgress(value=1.0, bar_style='info', max=1.0), HTML(value='')))"
            ]
          },
          "metadata": {
            "tags": []
          }
        },
        {
          "output_type": "stream",
          "text": [
            "\r"
          ],
          "name": "stdout"
        },
        {
          "output_type": "display_data",
          "data": {
            "application/vnd.jupyter.widget-view+json": {
              "model_id": "1d7de768ab4541a89486700e0862259d",
              "version_minor": 0,
              "version_major": 2
            },
            "text/plain": [
              "HBox(children=(FloatProgress(value=1.0, bar_style='info', max=1.0), HTML(value='')))"
            ]
          },
          "metadata": {
            "tags": []
          }
        },
        {
          "output_type": "stream",
          "text": [
            "\rDataset squad_v2 downloaded and prepared to /root/.cache/huggingface/datasets/squad_v2/squad_v2/2.0.0/9cac55034b086140f0649ecb5c604d09d7da2f2f5b73a90caa2e2bcc1f5cac09. Subsequent calls will reuse this data.\n"
          ],
          "name": "stdout"
        }
      ]
    },
    {
      "cell_type": "code",
      "metadata": {
        "colab": {
          "base_uri": "https://localhost:8080/"
        },
        "id": "SBvfj7Li_JKu",
        "outputId": "ee388ef2-921d-4063-f82e-738f8586c4dd"
      },
      "source": [
        "# view dataset \n",
        "dataset"
      ],
      "execution_count": null,
      "outputs": [
        {
          "output_type": "execute_result",
          "data": {
            "text/plain": [
              "DatasetDict({\n",
              "    train: Dataset({\n",
              "        features: ['id', 'title', 'context', 'question', 'answers'],\n",
              "        num_rows: 130319\n",
              "    })\n",
              "    validation: Dataset({\n",
              "        features: ['id', 'title', 'context', 'question', 'answers'],\n",
              "        num_rows: 11873\n",
              "    })\n",
              "})"
            ]
          },
          "metadata": {
            "tags": []
          },
          "execution_count": 4
        }
      ]
    },
    {
      "cell_type": "code",
      "metadata": {
        "id": "tivRqCW4_LgA"
      },
      "source": [
        "import json\n",
        "import pandas as pd\n",
        "from nltk.tokenize import word_tokenize\n",
        "import nltk"
      ],
      "execution_count": null,
      "outputs": []
    },
    {
      "cell_type": "code",
      "metadata": {
        "id": "yVPgqBykJ0MM"
      },
      "source": [
        "# set json data to dataframe\n",
        "train_df = pd.json_normalize(dataset['train'], errors='ignore')\n",
        "validation_df = pd.json_normalize(dataset['validation'], errors='ignore')"
      ],
      "execution_count": null,
      "outputs": []
    },
    {
      "cell_type": "code",
      "metadata": {
        "id": "2GCRN7oL_LjK",
        "colab": {
          "base_uri": "https://localhost:8080/",
          "height": 289
        },
        "outputId": "42d63395-c099-4f83-d4ab-e239a64941fe"
      },
      "source": [
        "train_df.head()"
      ],
      "execution_count": null,
      "outputs": [
        {
          "output_type": "execute_result",
          "data": {
            "text/html": [
              "<div>\n",
              "<style scoped>\n",
              "    .dataframe tbody tr th:only-of-type {\n",
              "        vertical-align: middle;\n",
              "    }\n",
              "\n",
              "    .dataframe tbody tr th {\n",
              "        vertical-align: top;\n",
              "    }\n",
              "\n",
              "    .dataframe thead th {\n",
              "        text-align: right;\n",
              "    }\n",
              "</style>\n",
              "<table border=\"1\" class=\"dataframe\">\n",
              "  <thead>\n",
              "    <tr style=\"text-align: right;\">\n",
              "      <th></th>\n",
              "      <th>context</th>\n",
              "      <th>id</th>\n",
              "      <th>question</th>\n",
              "      <th>title</th>\n",
              "      <th>answers.answer_start</th>\n",
              "      <th>answers.text</th>\n",
              "    </tr>\n",
              "  </thead>\n",
              "  <tbody>\n",
              "    <tr>\n",
              "      <th>0</th>\n",
              "      <td>Beyoncé Giselle Knowles-Carter (/biːˈjɒnseɪ/ b...</td>\n",
              "      <td>56be85543aeaaa14008c9063</td>\n",
              "      <td>When did Beyonce start becoming popular?</td>\n",
              "      <td>Beyoncé</td>\n",
              "      <td>[269]</td>\n",
              "      <td>[in the late 1990s]</td>\n",
              "    </tr>\n",
              "    <tr>\n",
              "      <th>1</th>\n",
              "      <td>Beyoncé Giselle Knowles-Carter (/biːˈjɒnseɪ/ b...</td>\n",
              "      <td>56be85543aeaaa14008c9065</td>\n",
              "      <td>What areas did Beyonce compete in when she was...</td>\n",
              "      <td>Beyoncé</td>\n",
              "      <td>[207]</td>\n",
              "      <td>[singing and dancing]</td>\n",
              "    </tr>\n",
              "    <tr>\n",
              "      <th>2</th>\n",
              "      <td>Beyoncé Giselle Knowles-Carter (/biːˈjɒnseɪ/ b...</td>\n",
              "      <td>56be85543aeaaa14008c9066</td>\n",
              "      <td>When did Beyonce leave Destiny's Child and bec...</td>\n",
              "      <td>Beyoncé</td>\n",
              "      <td>[526]</td>\n",
              "      <td>[2003]</td>\n",
              "    </tr>\n",
              "    <tr>\n",
              "      <th>3</th>\n",
              "      <td>Beyoncé Giselle Knowles-Carter (/biːˈjɒnseɪ/ b...</td>\n",
              "      <td>56bf6b0f3aeaaa14008c9601</td>\n",
              "      <td>In what city and state did Beyonce  grow up?</td>\n",
              "      <td>Beyoncé</td>\n",
              "      <td>[166]</td>\n",
              "      <td>[Houston, Texas]</td>\n",
              "    </tr>\n",
              "    <tr>\n",
              "      <th>4</th>\n",
              "      <td>Beyoncé Giselle Knowles-Carter (/biːˈjɒnseɪ/ b...</td>\n",
              "      <td>56bf6b0f3aeaaa14008c9602</td>\n",
              "      <td>In which decade did Beyonce become famous?</td>\n",
              "      <td>Beyoncé</td>\n",
              "      <td>[276]</td>\n",
              "      <td>[late 1990s]</td>\n",
              "    </tr>\n",
              "  </tbody>\n",
              "</table>\n",
              "</div>"
            ],
            "text/plain": [
              "                                             context  ...           answers.text\n",
              "0  Beyoncé Giselle Knowles-Carter (/biːˈjɒnseɪ/ b...  ...    [in the late 1990s]\n",
              "1  Beyoncé Giselle Knowles-Carter (/biːˈjɒnseɪ/ b...  ...  [singing and dancing]\n",
              "2  Beyoncé Giselle Knowles-Carter (/biːˈjɒnseɪ/ b...  ...                 [2003]\n",
              "3  Beyoncé Giselle Knowles-Carter (/biːˈjɒnseɪ/ b...  ...       [Houston, Texas]\n",
              "4  Beyoncé Giselle Knowles-Carter (/biːˈjɒnseɪ/ b...  ...           [late 1990s]\n",
              "\n",
              "[5 rows x 6 columns]"
            ]
          },
          "metadata": {
            "tags": []
          },
          "execution_count": 7
        }
      ]
    },
    {
      "cell_type": "markdown",
      "metadata": {
        "id": "-NuSlCzOAHe_"
      },
      "source": [
        "Statistics for SQuAD dataset"
      ]
    },
    {
      "cell_type": "code",
      "metadata": {
        "colab": {
          "base_uri": "https://localhost:8080/"
        },
        "id": "5-c6CQKZLKIs",
        "outputId": "979ecd3a-b32c-43a4-8df9-e1bbdfe4bc34"
      },
      "source": [
        " nltk.download('punkt')"
      ],
      "execution_count": null,
      "outputs": [
        {
          "output_type": "stream",
          "text": [
            "[nltk_data] Downloading package punkt to /root/nltk_data...\n",
            "[nltk_data]   Unzipping tokenizers/punkt.zip.\n"
          ],
          "name": "stdout"
        },
        {
          "output_type": "execute_result",
          "data": {
            "text/plain": [
              "True"
            ]
          },
          "metadata": {
            "tags": []
          },
          "execution_count": 8
        }
      ]
    },
    {
      "cell_type": "code",
      "metadata": {
        "id": "iWwFDgFqJqlL"
      },
      "source": [
        "# create column for tokenized context\n",
        "train_df[\"context_tokens\"] = train_df['context'].apply(word_tokenize)\n",
        "\n",
        "# create column for number of context tokens\n",
        "train_df[\"num_c_tokens\"] = [len(token) for token in train_df[\"context_tokens\"]]"
      ],
      "execution_count": null,
      "outputs": []
    },
    {
      "cell_type": "code",
      "metadata": {
        "id": "wPzpNBB8VO1k"
      },
      "source": [
        "# create column for tokenized question\n",
        "train_df[\"question_tokens\"] = train_df['question'].apply(word_tokenize)\n",
        "\n",
        "# create column for number of question tokens\n",
        "train_df[\"num_q_tokens\"] = [len(token) for token in train_df[\"question_tokens\"]]"
      ],
      "execution_count": null,
      "outputs": []
    },
    {
      "cell_type": "code",
      "metadata": {
        "colab": {
          "base_uri": "https://localhost:8080/",
          "height": 391
        },
        "id": "SzMDxGEDOvMv",
        "outputId": "281840ec-6e7b-4486-c8da-6f61d339f693"
      },
      "source": [
        "train_df.head()"
      ],
      "execution_count": null,
      "outputs": [
        {
          "output_type": "execute_result",
          "data": {
            "text/html": [
              "<div>\n",
              "<style scoped>\n",
              "    .dataframe tbody tr th:only-of-type {\n",
              "        vertical-align: middle;\n",
              "    }\n",
              "\n",
              "    .dataframe tbody tr th {\n",
              "        vertical-align: top;\n",
              "    }\n",
              "\n",
              "    .dataframe thead th {\n",
              "        text-align: right;\n",
              "    }\n",
              "</style>\n",
              "<table border=\"1\" class=\"dataframe\">\n",
              "  <thead>\n",
              "    <tr style=\"text-align: right;\">\n",
              "      <th></th>\n",
              "      <th>context</th>\n",
              "      <th>id</th>\n",
              "      <th>question</th>\n",
              "      <th>title</th>\n",
              "      <th>answers.answer_start</th>\n",
              "      <th>answers.text</th>\n",
              "      <th>context_tokens</th>\n",
              "      <th>num_c_tokens</th>\n",
              "      <th>question_tokens</th>\n",
              "      <th>num_q_tokens</th>\n",
              "    </tr>\n",
              "  </thead>\n",
              "  <tbody>\n",
              "    <tr>\n",
              "      <th>0</th>\n",
              "      <td>Beyoncé Giselle Knowles-Carter (/biːˈjɒnseɪ/ b...</td>\n",
              "      <td>56be85543aeaaa14008c9063</td>\n",
              "      <td>When did Beyonce start becoming popular?</td>\n",
              "      <td>Beyoncé</td>\n",
              "      <td>[269]</td>\n",
              "      <td>[in the late 1990s]</td>\n",
              "      <td>[Beyoncé, Giselle, Knowles-Carter, (, /biːˈjɒn...</td>\n",
              "      <td>139</td>\n",
              "      <td>[When, did, Beyonce, start, becoming, popular, ?]</td>\n",
              "      <td>7</td>\n",
              "    </tr>\n",
              "    <tr>\n",
              "      <th>1</th>\n",
              "      <td>Beyoncé Giselle Knowles-Carter (/biːˈjɒnseɪ/ b...</td>\n",
              "      <td>56be85543aeaaa14008c9065</td>\n",
              "      <td>What areas did Beyonce compete in when she was...</td>\n",
              "      <td>Beyoncé</td>\n",
              "      <td>[207]</td>\n",
              "      <td>[singing and dancing]</td>\n",
              "      <td>[Beyoncé, Giselle, Knowles-Carter, (, /biːˈjɒn...</td>\n",
              "      <td>139</td>\n",
              "      <td>[What, areas, did, Beyonce, compete, in, when,...</td>\n",
              "      <td>12</td>\n",
              "    </tr>\n",
              "    <tr>\n",
              "      <th>2</th>\n",
              "      <td>Beyoncé Giselle Knowles-Carter (/biːˈjɒnseɪ/ b...</td>\n",
              "      <td>56be85543aeaaa14008c9066</td>\n",
              "      <td>When did Beyonce leave Destiny's Child and bec...</td>\n",
              "      <td>Beyoncé</td>\n",
              "      <td>[526]</td>\n",
              "      <td>[2003]</td>\n",
              "      <td>[Beyoncé, Giselle, Knowles-Carter, (, /biːˈjɒn...</td>\n",
              "      <td>139</td>\n",
              "      <td>[When, did, Beyonce, leave, Destiny, 's, Child...</td>\n",
              "      <td>13</td>\n",
              "    </tr>\n",
              "    <tr>\n",
              "      <th>3</th>\n",
              "      <td>Beyoncé Giselle Knowles-Carter (/biːˈjɒnseɪ/ b...</td>\n",
              "      <td>56bf6b0f3aeaaa14008c9601</td>\n",
              "      <td>In what city and state did Beyonce  grow up?</td>\n",
              "      <td>Beyoncé</td>\n",
              "      <td>[166]</td>\n",
              "      <td>[Houston, Texas]</td>\n",
              "      <td>[Beyoncé, Giselle, Knowles-Carter, (, /biːˈjɒn...</td>\n",
              "      <td>139</td>\n",
              "      <td>[In, what, city, and, state, did, Beyonce, gro...</td>\n",
              "      <td>10</td>\n",
              "    </tr>\n",
              "    <tr>\n",
              "      <th>4</th>\n",
              "      <td>Beyoncé Giselle Knowles-Carter (/biːˈjɒnseɪ/ b...</td>\n",
              "      <td>56bf6b0f3aeaaa14008c9602</td>\n",
              "      <td>In which decade did Beyonce become famous?</td>\n",
              "      <td>Beyoncé</td>\n",
              "      <td>[276]</td>\n",
              "      <td>[late 1990s]</td>\n",
              "      <td>[Beyoncé, Giselle, Knowles-Carter, (, /biːˈjɒn...</td>\n",
              "      <td>139</td>\n",
              "      <td>[In, which, decade, did, Beyonce, become, famo...</td>\n",
              "      <td>8</td>\n",
              "    </tr>\n",
              "  </tbody>\n",
              "</table>\n",
              "</div>"
            ],
            "text/plain": [
              "                                             context  ... num_q_tokens\n",
              "0  Beyoncé Giselle Knowles-Carter (/biːˈjɒnseɪ/ b...  ...            7\n",
              "1  Beyoncé Giselle Knowles-Carter (/biːˈjɒnseɪ/ b...  ...           12\n",
              "2  Beyoncé Giselle Knowles-Carter (/biːˈjɒnseɪ/ b...  ...           13\n",
              "3  Beyoncé Giselle Knowles-Carter (/biːˈjɒnseɪ/ b...  ...           10\n",
              "4  Beyoncé Giselle Knowles-Carter (/biːˈjɒnseɪ/ b...  ...            8\n",
              "\n",
              "[5 rows x 10 columns]"
            ]
          },
          "metadata": {
            "tags": []
          },
          "execution_count": 10
        }
      ]
    },
    {
      "cell_type": "code",
      "metadata": {
        "id": "A1bnA9vb_Lmf",
        "colab": {
          "base_uri": "https://localhost:8080/"
        },
        "outputId": "227868e4-9cff-4689-90de-b044dab74690"
      },
      "source": [
        "# number of questions\n",
        "n_question = len(train_df['context'])\n",
        "print(\"Number of questions :\", n_question)"
      ],
      "execution_count": null,
      "outputs": [
        {
          "output_type": "stream",
          "text": [
            "Number of questions : 130319\n"
          ],
          "name": "stdout"
        }
      ]
    },
    {
      "cell_type": "code",
      "metadata": {
        "id": "BoTFVtSq_LpI",
        "colab": {
          "base_uri": "https://localhost:8080/"
        },
        "outputId": "5e3f40f4-4655-4984-b60c-34de1de6c2a6"
      },
      "source": [
        "# number of unique contexts\n",
        "unique_contexts = len(pd.unique(train_df['context']))\n",
        "print(\"Number of unique contexts :\", unique_contexts)"
      ],
      "execution_count": null,
      "outputs": [
        {
          "output_type": "stream",
          "text": [
            "Number of unique contexts : 19029\n"
          ],
          "name": "stdout"
        }
      ]
    },
    {
      "cell_type": "code",
      "metadata": {
        "id": "PmzVKUEF_Lr9",
        "colab": {
          "base_uri": "https://localhost:8080/"
        },
        "outputId": "cdd429a2-7d75-4b76-b4f9-f56fe4cbf707"
      },
      "source": [
        "# average number of tokens per question\n",
        "q_avg = train_df['num_q_tokens'].mean(axis = 0) \n",
        "print(\"Average number of tokens per question :\", q_avg)"
      ],
      "execution_count": null,
      "outputs": [
        {
          "output_type": "stream",
          "text": [
            "Average number of tokens per question : 11.106707387257423\n"
          ],
          "name": "stdout"
        }
      ]
    },
    {
      "cell_type": "code",
      "metadata": {
        "id": "XnsogTpK_Lu-",
        "colab": {
          "base_uri": "https://localhost:8080/"
        },
        "outputId": "437cf2ef-7bd4-4dbc-b2d2-755cbdf9a73c"
      },
      "source": [
        "# average number of tokens per context\n",
        "c_unique = train_df.drop_duplicates(subset = ['context'])\n",
        "c_avg = c_unique['num_c_tokens'].mean(axis = 0) \n",
        "print(\"Average number of tokens per context :\", c_avg)"
      ],
      "execution_count": null,
      "outputs": [
        {
          "output_type": "stream",
          "text": [
            "Average number of tokens per context : 134.1707393977613\n"
          ],
          "name": "stdout"
        }
      ]
    },
    {
      "cell_type": "code",
      "metadata": {
        "colab": {
          "base_uri": "https://localhost:8080/"
        },
        "id": "AZQoVhxIaMBi",
        "outputId": "e21589dd-e99d-4fdd-c5a9-87317e1fe0b8"
      },
      "source": [
        "# get the number of answerable questions\n",
        "drop_no_answer = train_df[~train_df['answers.answer_start'].str.len().eq(0)]\n",
        "num_ans_question = len(drop_no_answer['context'])\n",
        "per_ans_question = (num_ans_question / n_question) * 100\n",
        "print(\"Number of answerable questions :\", num_ans_question)\n",
        "print(\"Percentage of answerable questions :\", per_ans_question)"
      ],
      "execution_count": null,
      "outputs": [
        {
          "output_type": "stream",
          "text": [
            "Number of answerable questions : 86821\n",
            "Percentage of answerable questions : 66.62190471074824\n"
          ],
          "name": "stdout"
        }
      ]
    },
    {
      "cell_type": "code",
      "metadata": {
        "id": "dTLDWZsvbPnt"
      },
      "source": [
        "# convert squad data back to seperate jsonl files"
      ],
      "execution_count": null,
      "outputs": []
    },
    {
      "cell_type": "code",
      "metadata": {
        "id": "Gc_u_7aObV-g"
      },
      "source": [
        "# function to combine the start token and answer into dictionary\n",
        "def to_dict(answer_start, answer): \n",
        "  dict = {}\n",
        "  dict['answer_start'] = answer_start\n",
        "  dict['text'] = answer\n",
        "  return dict"
      ],
      "execution_count": null,
      "outputs": []
    },
    {
      "cell_type": "code",
      "metadata": {
        "id": "58iFqy3SbYI6"
      },
      "source": [
        "# run function\n",
        "train_df['answers'] = train_df.apply(lambda x:to_dict(x['answers.answer_start'],x['answers.text']), axis=1)\n",
        "validation_df['answers'] = validation_df.apply(lambda x:to_dict(x['answers.answer_start'],x['answers.text']), axis=1)"
      ],
      "execution_count": null,
      "outputs": []
    },
    {
      "cell_type": "code",
      "metadata": {
        "colab": {
          "base_uri": "https://localhost:8080/",
          "height": 912
        },
        "id": "Ng5SeO9KdZKD",
        "outputId": "07f9e64a-f00e-4a3b-a09c-03dce3d0a696"
      },
      "source": [
        "pd.set_option('display.max_colwidth', 50)\n",
        "train_df.head(100000)"
      ],
      "execution_count": null,
      "outputs": [
        {
          "output_type": "execute_result",
          "data": {
            "text/html": [
              "<div>\n",
              "<style scoped>\n",
              "    .dataframe tbody tr th:only-of-type {\n",
              "        vertical-align: middle;\n",
              "    }\n",
              "\n",
              "    .dataframe tbody tr th {\n",
              "        vertical-align: top;\n",
              "    }\n",
              "\n",
              "    .dataframe thead th {\n",
              "        text-align: right;\n",
              "    }\n",
              "</style>\n",
              "<table border=\"1\" class=\"dataframe\">\n",
              "  <thead>\n",
              "    <tr style=\"text-align: right;\">\n",
              "      <th></th>\n",
              "      <th>context</th>\n",
              "      <th>id</th>\n",
              "      <th>question</th>\n",
              "      <th>title</th>\n",
              "      <th>answers.answer_start</th>\n",
              "      <th>answers.text</th>\n",
              "      <th>context_tokens</th>\n",
              "      <th>num_c_tokens</th>\n",
              "      <th>question_tokens</th>\n",
              "      <th>num_q_tokens</th>\n",
              "      <th>answers</th>\n",
              "    </tr>\n",
              "  </thead>\n",
              "  <tbody>\n",
              "    <tr>\n",
              "      <th>0</th>\n",
              "      <td>Beyoncé Giselle Knowles-Carter (/biːˈjɒnseɪ/ b...</td>\n",
              "      <td>56be85543aeaaa14008c9063</td>\n",
              "      <td>When did Beyonce start becoming popular?</td>\n",
              "      <td>Beyoncé</td>\n",
              "      <td>[269]</td>\n",
              "      <td>[in the late 1990s]</td>\n",
              "      <td>[Beyoncé, Giselle, Knowles-Carter, (, /biːˈjɒn...</td>\n",
              "      <td>139</td>\n",
              "      <td>[When, did, Beyonce, start, becoming, popular, ?]</td>\n",
              "      <td>7</td>\n",
              "      <td>{'answer_start': [269], 'text': ['in the late ...</td>\n",
              "    </tr>\n",
              "    <tr>\n",
              "      <th>1</th>\n",
              "      <td>Beyoncé Giselle Knowles-Carter (/biːˈjɒnseɪ/ b...</td>\n",
              "      <td>56be85543aeaaa14008c9065</td>\n",
              "      <td>What areas did Beyonce compete in when she was...</td>\n",
              "      <td>Beyoncé</td>\n",
              "      <td>[207]</td>\n",
              "      <td>[singing and dancing]</td>\n",
              "      <td>[Beyoncé, Giselle, Knowles-Carter, (, /biːˈjɒn...</td>\n",
              "      <td>139</td>\n",
              "      <td>[What, areas, did, Beyonce, compete, in, when,...</td>\n",
              "      <td>12</td>\n",
              "      <td>{'answer_start': [207], 'text': ['singing and ...</td>\n",
              "    </tr>\n",
              "    <tr>\n",
              "      <th>2</th>\n",
              "      <td>Beyoncé Giselle Knowles-Carter (/biːˈjɒnseɪ/ b...</td>\n",
              "      <td>56be85543aeaaa14008c9066</td>\n",
              "      <td>When did Beyonce leave Destiny's Child and bec...</td>\n",
              "      <td>Beyoncé</td>\n",
              "      <td>[526]</td>\n",
              "      <td>[2003]</td>\n",
              "      <td>[Beyoncé, Giselle, Knowles-Carter, (, /biːˈjɒn...</td>\n",
              "      <td>139</td>\n",
              "      <td>[When, did, Beyonce, leave, Destiny, 's, Child...</td>\n",
              "      <td>13</td>\n",
              "      <td>{'answer_start': [526], 'text': ['2003']}</td>\n",
              "    </tr>\n",
              "    <tr>\n",
              "      <th>3</th>\n",
              "      <td>Beyoncé Giselle Knowles-Carter (/biːˈjɒnseɪ/ b...</td>\n",
              "      <td>56bf6b0f3aeaaa14008c9601</td>\n",
              "      <td>In what city and state did Beyonce  grow up?</td>\n",
              "      <td>Beyoncé</td>\n",
              "      <td>[166]</td>\n",
              "      <td>[Houston, Texas]</td>\n",
              "      <td>[Beyoncé, Giselle, Knowles-Carter, (, /biːˈjɒn...</td>\n",
              "      <td>139</td>\n",
              "      <td>[In, what, city, and, state, did, Beyonce, gro...</td>\n",
              "      <td>10</td>\n",
              "      <td>{'answer_start': [166], 'text': ['Houston, Tex...</td>\n",
              "    </tr>\n",
              "    <tr>\n",
              "      <th>4</th>\n",
              "      <td>Beyoncé Giselle Knowles-Carter (/biːˈjɒnseɪ/ b...</td>\n",
              "      <td>56bf6b0f3aeaaa14008c9602</td>\n",
              "      <td>In which decade did Beyonce become famous?</td>\n",
              "      <td>Beyoncé</td>\n",
              "      <td>[276]</td>\n",
              "      <td>[late 1990s]</td>\n",
              "      <td>[Beyoncé, Giselle, Knowles-Carter, (, /biːˈjɒn...</td>\n",
              "      <td>139</td>\n",
              "      <td>[In, which, decade, did, Beyonce, become, famo...</td>\n",
              "      <td>8</td>\n",
              "      <td>{'answer_start': [276], 'text': ['late 1990s']}</td>\n",
              "    </tr>\n",
              "    <tr>\n",
              "      <th>...</th>\n",
              "      <td>...</td>\n",
              "      <td>...</td>\n",
              "      <td>...</td>\n",
              "      <td>...</td>\n",
              "      <td>...</td>\n",
              "      <td>...</td>\n",
              "      <td>...</td>\n",
              "      <td>...</td>\n",
              "      <td>...</td>\n",
              "      <td>...</td>\n",
              "      <td>...</td>\n",
              "    </tr>\n",
              "    <tr>\n",
              "      <th>99995</th>\n",
              "      <td>Secondary education in the United States did n...</td>\n",
              "      <td>5acd74fd07355d001abf4325</td>\n",
              "      <td>Why wasn't secondary school introduced in the ...</td>\n",
              "      <td>Education</td>\n",
              "      <td>[]</td>\n",
              "      <td>[]</td>\n",
              "      <td>[Secondary, education, in, the, United, States...</td>\n",
              "      <td>93</td>\n",
              "      <td>[Why, was, n't, secondary, school, introduced,...</td>\n",
              "      <td>10</td>\n",
              "      <td>{'answer_start': [], 'text': []}</td>\n",
              "    </tr>\n",
              "    <tr>\n",
              "      <th>99996</th>\n",
              "      <td>Secondary education in the United States did n...</td>\n",
              "      <td>5acd74fd07355d001abf4326</td>\n",
              "      <td>Who didn't benefit from secondary schools?</td>\n",
              "      <td>Education</td>\n",
              "      <td>[]</td>\n",
              "      <td>[]</td>\n",
              "      <td>[Secondary, education, in, the, United, States...</td>\n",
              "      <td>93</td>\n",
              "      <td>[Who, did, n't, benefit, from, secondary, scho...</td>\n",
              "      <td>8</td>\n",
              "      <td>{'answer_start': [], 'text': []}</td>\n",
              "    </tr>\n",
              "    <tr>\n",
              "      <th>99997</th>\n",
              "      <td>Secondary education in the United States did n...</td>\n",
              "      <td>5acd74fd07355d001abf4327</td>\n",
              "      <td>Why were high schools not created?</td>\n",
              "      <td>Education</td>\n",
              "      <td>[]</td>\n",
              "      <td>[]</td>\n",
              "      <td>[Secondary, education, in, the, United, States...</td>\n",
              "      <td>93</td>\n",
              "      <td>[Why, were, high, schools, not, created, ?]</td>\n",
              "      <td>7</td>\n",
              "      <td>{'answer_start': [], 'text': []}</td>\n",
              "    </tr>\n",
              "    <tr>\n",
              "      <th>99998</th>\n",
              "      <td>Higher education, also called tertiary, third ...</td>\n",
              "      <td>572b8770111d821400f38ee8</td>\n",
              "      <td>What was another name used for Higher Education?</td>\n",
              "      <td>Education</td>\n",
              "      <td>[30]</td>\n",
              "      <td>[tertiary, third stage, or postsecondary educa...</td>\n",
              "      <td>[Higher, education, ,, also, called, tertiary,...</td>\n",
              "      <td>88</td>\n",
              "      <td>[What, was, another, name, used, for, Higher, ...</td>\n",
              "      <td>9</td>\n",
              "      <td>{'answer_start': [30], 'text': ['tertiary, thi...</td>\n",
              "    </tr>\n",
              "    <tr>\n",
              "      <th>99999</th>\n",
              "      <td>Higher education, also called tertiary, third ...</td>\n",
              "      <td>572b8770111d821400f38ee9</td>\n",
              "      <td>What is High Education?</td>\n",
              "      <td>Education</td>\n",
              "      <td>[126]</td>\n",
              "      <td>[follows the completion of a school such as a ...</td>\n",
              "      <td>[Higher, education, ,, also, called, tertiary,...</td>\n",
              "      <td>88</td>\n",
              "      <td>[What, is, High, Education, ?]</td>\n",
              "      <td>5</td>\n",
              "      <td>{'answer_start': [126], 'text': ['follows the ...</td>\n",
              "    </tr>\n",
              "  </tbody>\n",
              "</table>\n",
              "<p>100000 rows × 11 columns</p>\n",
              "</div>"
            ],
            "text/plain": [
              "                                                 context  ...                                            answers\n",
              "0      Beyoncé Giselle Knowles-Carter (/biːˈjɒnseɪ/ b...  ...  {'answer_start': [269], 'text': ['in the late ...\n",
              "1      Beyoncé Giselle Knowles-Carter (/biːˈjɒnseɪ/ b...  ...  {'answer_start': [207], 'text': ['singing and ...\n",
              "2      Beyoncé Giselle Knowles-Carter (/biːˈjɒnseɪ/ b...  ...          {'answer_start': [526], 'text': ['2003']}\n",
              "3      Beyoncé Giselle Knowles-Carter (/biːˈjɒnseɪ/ b...  ...  {'answer_start': [166], 'text': ['Houston, Tex...\n",
              "4      Beyoncé Giselle Knowles-Carter (/biːˈjɒnseɪ/ b...  ...    {'answer_start': [276], 'text': ['late 1990s']}\n",
              "...                                                  ...  ...                                                ...\n",
              "99995  Secondary education in the United States did n...  ...                   {'answer_start': [], 'text': []}\n",
              "99996  Secondary education in the United States did n...  ...                   {'answer_start': [], 'text': []}\n",
              "99997  Secondary education in the United States did n...  ...                   {'answer_start': [], 'text': []}\n",
              "99998  Higher education, also called tertiary, third ...  ...  {'answer_start': [30], 'text': ['tertiary, thi...\n",
              "99999  Higher education, also called tertiary, third ...  ...  {'answer_start': [126], 'text': ['follows the ...\n",
              "\n",
              "[100000 rows x 11 columns]"
            ]
          },
          "metadata": {
            "tags": []
          },
          "execution_count": 36
        }
      ]
    },
    {
      "cell_type": "code",
      "metadata": {
        "id": "a_0SUjo8dZNy"
      },
      "source": [
        "# extract columns\n",
        "df_squad_train = train_df[['answers','context','id','question']]\n",
        "df_squad_validation = validation_df[['answers','context','id','question']]"
      ],
      "execution_count": null,
      "outputs": []
    },
    {
      "cell_type": "code",
      "metadata": {
        "id": "oWIZOKgYj-k_"
      },
      "source": [
        "df_squad_train.to_json('/content/drive/MyDrive/ColabNotebooks/data/squad_train.jsonl',orient='records', lines=True)"
      ],
      "execution_count": null,
      "outputs": []
    },
    {
      "cell_type": "code",
      "metadata": {
        "id": "9whVXrCqj-pz"
      },
      "source": [
        "df_squad_validation.to_json('/content/drive/MyDrive/ColabNotebooks/data/squad_validation.jsonl',orient='records', lines=True)"
      ],
      "execution_count": null,
      "outputs": []
    },
    {
      "cell_type": "code",
      "metadata": {
        "id": "KXTJW3kAX66J"
      },
      "source": [
        ""
      ],
      "execution_count": null,
      "outputs": []
    },
    {
      "cell_type": "markdown",
      "metadata": {
        "id": "r6tdyM-NvZMw"
      },
      "source": [
        "Update dataset to match Natural Questions"
      ]
    },
    {
      "cell_type": "code",
      "metadata": {
        "id": "TpIsuoA7vWiE"
      },
      "source": [
        "# add column indicating if question is answerable or non-answerable\n",
        "# create function\n",
        "def no_answer(start): \n",
        "  if start == []:\n",
        "    return 0\n",
        "  else:\n",
        "    return 1\n",
        "\n",
        "# apply to answer column\n",
        "train_df[\"answer_yes_no\"] =  train_df.apply(lambda x:no_answer(x['answers.answer_start']), axis=1)\n",
        "validation_df[\"answer_yes_no\"] =  validation_df.apply(lambda x:no_answer(x['answers.answer_start']), axis=1)"
      ],
      "execution_count": null,
      "outputs": []
    },
    {
      "cell_type": "code",
      "metadata": {
        "id": "hfbdZbha2-5d"
      },
      "source": [
        "# groupby unique context \n",
        "train_reduce_df = train_df.groupby('context').sample(n=1, random_state=1)\n",
        "validation_reduce_df = validation_df.groupby('context').sample(n=1, random_state=1)"
      ],
      "execution_count": null,
      "outputs": []
    },
    {
      "cell_type": "code",
      "metadata": {
        "colab": {
          "base_uri": "https://localhost:8080/"
        },
        "id": "8iEahas6vXN3",
        "outputId": "320ffb3f-27cc-4335-ce16-7c19db1d5e69"
      },
      "source": [
        "# check the number of answerable to non_answerable for train dataset (percentage is 75%-25% ok)\n",
        "train_reduce_df['answer_yes_no'].value_counts()"
      ],
      "execution_count": null,
      "outputs": [
        {
          "output_type": "execute_result",
          "data": {
            "text/plain": [
              "1    14373\n",
              "0     4656\n",
              "Name: answer_yes_no, dtype: int64"
            ]
          },
          "metadata": {
            "tags": []
          },
          "execution_count": 19
        }
      ]
    },
    {
      "cell_type": "code",
      "metadata": {
        "colab": {
          "base_uri": "https://localhost:8080/"
        },
        "id": "Ht3psGyy2Oji",
        "outputId": "26b0cdd1-3cb5-41ed-8de4-7cbad5e6afd2"
      },
      "source": [
        "# check the number of answerable to non_answerable for train dataset (percentage is nearly 50%-50%. Matches previous distribution ok)\n",
        "validation_reduce_df['answer_yes_no'].value_counts()"
      ],
      "execution_count": null,
      "outputs": [
        {
          "output_type": "execute_result",
          "data": {
            "text/plain": [
              "1    611\n",
              "0    593\n",
              "Name: answer_yes_no, dtype: int64"
            ]
          },
          "metadata": {
            "tags": []
          },
          "execution_count": 20
        }
      ]
    },
    {
      "cell_type": "code",
      "metadata": {
        "id": "Ozph01a3wLGh"
      },
      "source": [
        "# further reduce the remaining training dataset to match the NQ dataset of ~ 8500\n",
        "train_reduce_8500 = train_reduce_df.groupby('answer_yes_no').sample(frac=0.45, random_state=1)"
      ],
      "execution_count": null,
      "outputs": []
    },
    {
      "cell_type": "code",
      "metadata": {
        "colab": {
          "base_uri": "https://localhost:8080/"
        },
        "id": "8sF5Y_wpw754",
        "outputId": "9a8fdcfa-b549-4999-a437-25f69c0dc5fb"
      },
      "source": [
        "# check the number of answerable to non_answerable for train dataset (percentage is 75%-25% ok)\n",
        "train_reduce_8500['answer_yes_no'].value_counts()"
      ],
      "execution_count": null,
      "outputs": [
        {
          "output_type": "execute_result",
          "data": {
            "text/plain": [
              "1    6468\n",
              "0    2095\n",
              "Name: answer_yes_no, dtype: int64"
            ]
          },
          "metadata": {
            "tags": []
          },
          "execution_count": 22
        }
      ]
    },
    {
      "cell_type": "code",
      "metadata": {
        "id": "TQOOZzgRx81s"
      },
      "source": [
        "# convert squad data back to seperate jsonl files"
      ],
      "execution_count": null,
      "outputs": []
    },
    {
      "cell_type": "code",
      "metadata": {
        "id": "-o4zyz_wx81u"
      },
      "source": [
        "# function to combine the start token and answer into dictionary\n",
        "def to_dict(answer_start, answer): \n",
        "  dict = {}\n",
        "  dict['answer_start'] = answer_start\n",
        "  dict['text'] = answer\n",
        "  return dict"
      ],
      "execution_count": null,
      "outputs": []
    },
    {
      "cell_type": "code",
      "metadata": {
        "id": "UYsE2iFZx81v"
      },
      "source": [
        "# run function\n",
        "train_reduce_8500['answers'] = train_reduce_8500.apply(lambda x:to_dict(x['answers.answer_start'],x['answers.text']), axis=1)\n"
      ],
      "execution_count": null,
      "outputs": []
    },
    {
      "cell_type": "code",
      "metadata": {
        "colab": {
          "base_uri": "https://localhost:8080/",
          "height": 534
        },
        "id": "0BHaL24Tx81w",
        "outputId": "b9127918-b185-4792-c9fc-def574c5aeaf"
      },
      "source": [
        "pd.set_option('display.max_colwidth', 50)\n",
        "train_reduce_8500.head()"
      ],
      "execution_count": null,
      "outputs": [
        {
          "output_type": "execute_result",
          "data": {
            "text/html": [
              "<div>\n",
              "<style scoped>\n",
              "    .dataframe tbody tr th:only-of-type {\n",
              "        vertical-align: middle;\n",
              "    }\n",
              "\n",
              "    .dataframe tbody tr th {\n",
              "        vertical-align: top;\n",
              "    }\n",
              "\n",
              "    .dataframe thead th {\n",
              "        text-align: right;\n",
              "    }\n",
              "</style>\n",
              "<table border=\"1\" class=\"dataframe\">\n",
              "  <thead>\n",
              "    <tr style=\"text-align: right;\">\n",
              "      <th></th>\n",
              "      <th>context</th>\n",
              "      <th>id</th>\n",
              "      <th>question</th>\n",
              "      <th>title</th>\n",
              "      <th>answers.answer_start</th>\n",
              "      <th>answers.text</th>\n",
              "      <th>context_tokens</th>\n",
              "      <th>num_c_tokens</th>\n",
              "      <th>answer_yes_no</th>\n",
              "      <th>answers</th>\n",
              "    </tr>\n",
              "  </thead>\n",
              "  <tbody>\n",
              "    <tr>\n",
              "      <th>10559</th>\n",
              "      <td>Texts on architecture have been written since ...</td>\n",
              "      <td>5acfa27f77cf76001a68565f</td>\n",
              "      <td>Who wrote canons in 2nd century BCE?</td>\n",
              "      <td>Architecture</td>\n",
              "      <td>[]</td>\n",
              "      <td>[]</td>\n",
              "      <td>[Texts, on, architecture, have, been, written,...</td>\n",
              "      <td>53</td>\n",
              "      <td>0</td>\n",
              "      <td>{'answer_start': [], 'text': []}</td>\n",
              "    </tr>\n",
              "    <tr>\n",
              "      <th>69358</th>\n",
              "      <td>According to his autobiography, Avicenna had m...</td>\n",
              "      <td>5ace99ba32bba1001ae4ac3d</td>\n",
              "      <td>What did Avicenna learn from the Shia scholar ...</td>\n",
              "      <td>Avicenna</td>\n",
              "      <td>[]</td>\n",
              "      <td>[]</td>\n",
              "      <td>[According, to, his, autobiography, ,, Avicenn...</td>\n",
              "      <td>107</td>\n",
              "      <td>0</td>\n",
              "      <td>{'answer_start': [], 'text': []}</td>\n",
              "    </tr>\n",
              "    <tr>\n",
              "      <th>39235</th>\n",
              "      <td>The Virgin birth of Jesus was an almost univer...</td>\n",
              "      <td>5ad1620b645df0001a2d1936</td>\n",
              "      <td>In what century did Mary fulfill the prophecy?</td>\n",
              "      <td>Mary_(mother_of_Jesus)</td>\n",
              "      <td>[]</td>\n",
              "      <td>[]</td>\n",
              "      <td>[The, Virgin, birth, of, Jesus, was, an, almos...</td>\n",
              "      <td>183</td>\n",
              "      <td>0</td>\n",
              "      <td>{'answer_start': [], 'text': []}</td>\n",
              "    </tr>\n",
              "    <tr>\n",
              "      <th>55036</th>\n",
              "      <td>The early synapsid mammalian ancestors were sp...</td>\n",
              "      <td>5a39e1dc2f14dd001ac72628</td>\n",
              "      <td>The Sphenacodontia arose in the Paleogene and ...</td>\n",
              "      <td>Mammal</td>\n",
              "      <td>[]</td>\n",
              "      <td>[]</td>\n",
              "      <td>[The, early, synapsid, mammalian, ancestors, w...</td>\n",
              "      <td>102</td>\n",
              "      <td>0</td>\n",
              "      <td>{'answer_start': [], 'text': []}</td>\n",
              "    </tr>\n",
              "    <tr>\n",
              "      <th>106783</th>\n",
              "      <td>In a grounded-emitter transistor circuit, such...</td>\n",
              "      <td>5a7b6e4f21c2de001afea006</td>\n",
              "      <td>What changes the most in a grounded-emitter tr...</td>\n",
              "      <td>Transistor</td>\n",
              "      <td>[]</td>\n",
              "      <td>[]</td>\n",
              "      <td>[In, a, grounded-emitter, transistor, circuit,...</td>\n",
              "      <td>102</td>\n",
              "      <td>0</td>\n",
              "      <td>{'answer_start': [], 'text': []}</td>\n",
              "    </tr>\n",
              "  </tbody>\n",
              "</table>\n",
              "</div>"
            ],
            "text/plain": [
              "                                                  context  ...                           answers\n",
              "10559   Texts on architecture have been written since ...  ...  {'answer_start': [], 'text': []}\n",
              "69358   According to his autobiography, Avicenna had m...  ...  {'answer_start': [], 'text': []}\n",
              "39235   The Virgin birth of Jesus was an almost univer...  ...  {'answer_start': [], 'text': []}\n",
              "55036   The early synapsid mammalian ancestors were sp...  ...  {'answer_start': [], 'text': []}\n",
              "106783  In a grounded-emitter transistor circuit, such...  ...  {'answer_start': [], 'text': []}\n",
              "\n",
              "[5 rows x 10 columns]"
            ]
          },
          "metadata": {
            "tags": []
          },
          "execution_count": 25
        }
      ]
    },
    {
      "cell_type": "code",
      "metadata": {
        "id": "dvFpdlpkx81x"
      },
      "source": [
        "# extract columns\n",
        "df_squad_train_reduce = train_reduce_8500[['answers','context','id','question']]"
      ],
      "execution_count": null,
      "outputs": []
    },
    {
      "cell_type": "code",
      "metadata": {
        "id": "bcI1dkGyx81y"
      },
      "source": [
        "df_squad_train_reduce.to_json('/content/drive/MyDrive/ColabNotebooks/data/squad-reduce-8500_train.jsonl',orient='records', lines=True)"
      ],
      "execution_count": null,
      "outputs": []
    },
    {
      "cell_type": "markdown",
      "metadata": {
        "id": "ryvFmnBzBeFk"
      },
      "source": [
        "Statistics for Reduced SQuAD dataset"
      ]
    },
    {
      "cell_type": "code",
      "metadata": {
        "id": "-A-TO6pnBeFp"
      },
      "source": [
        "# create column for tokenized context\n",
        "train_reduce_df[\"context_tokens\"] = train_reduce_df['context'].apply(word_tokenize)\n",
        "\n",
        "# create column for number of context tokens\n",
        "train_reduce_df[\"num_c_tokens\"] = [len(token) for token in train_reduce_df[\"context_tokens\"]]"
      ],
      "execution_count": null,
      "outputs": []
    },
    {
      "cell_type": "code",
      "metadata": {
        "id": "NXXx8VwSBeFr"
      },
      "source": [
        "# create column for tokenized question\n",
        "train_reduce_df[\"question_tokens\"] = train_reduce_df['question'].apply(word_tokenize)\n",
        "\n",
        "# create column for number of question tokens\n",
        "train_reduce_df[\"num_q_tokens\"] = [len(token) for token in train_reduce_df[\"question_tokens\"]]"
      ],
      "execution_count": null,
      "outputs": []
    },
    {
      "cell_type": "code",
      "metadata": {
        "colab": {
          "base_uri": "https://localhost:8080/",
          "height": 493
        },
        "id": "DADu-d0HBeFs",
        "outputId": "274e21dd-d566-4fe8-db1a-682786828401"
      },
      "source": [
        "train_reduce_df.head()"
      ],
      "execution_count": null,
      "outputs": [
        {
          "output_type": "execute_result",
          "data": {
            "text/html": [
              "<div>\n",
              "<style scoped>\n",
              "    .dataframe tbody tr th:only-of-type {\n",
              "        vertical-align: middle;\n",
              "    }\n",
              "\n",
              "    .dataframe tbody tr th {\n",
              "        vertical-align: top;\n",
              "    }\n",
              "\n",
              "    .dataframe thead th {\n",
              "        text-align: right;\n",
              "    }\n",
              "</style>\n",
              "<table border=\"1\" class=\"dataframe\">\n",
              "  <thead>\n",
              "    <tr style=\"text-align: right;\">\n",
              "      <th></th>\n",
              "      <th>context</th>\n",
              "      <th>id</th>\n",
              "      <th>question</th>\n",
              "      <th>title</th>\n",
              "      <th>answers.answer_start</th>\n",
              "      <th>answers.text</th>\n",
              "      <th>answer_yes_no</th>\n",
              "      <th>context_tokens</th>\n",
              "      <th>num_c_tokens</th>\n",
              "      <th>question_tokens</th>\n",
              "      <th>num_q_tokens</th>\n",
              "    </tr>\n",
              "  </thead>\n",
              "  <tbody>\n",
              "    <tr>\n",
              "      <th>60985</th>\n",
              "      <td>\"4 Minutes\" was released as the album's lead s...</td>\n",
              "      <td>5726e664dd62a815002e945c</td>\n",
              "      <td>4 minutes became Madonna's which number one si...</td>\n",
              "      <td>Madonna_(entertainer)</td>\n",
              "      <td>[343]</td>\n",
              "      <td>[thirteenth]</td>\n",
              "      <td>1</td>\n",
              "      <td>[``, 4, Minutes, '', was, released, as, the, a...</td>\n",
              "      <td>193</td>\n",
              "      <td>[4, minutes, became, Madonna, 's, which, numbe...</td>\n",
              "      <td>13</td>\n",
              "    </tr>\n",
              "    <tr>\n",
              "      <th>74350</th>\n",
              "      <td>\"Alsatia\", the Latin form of Alsace's name, ha...</td>\n",
              "      <td>5727acde3acd2414000de95f</td>\n",
              "      <td>Which nationalities still refer it to Alslace ...</td>\n",
              "      <td>Alsace</td>\n",
              "      <td>[420]</td>\n",
              "      <td>[English and Australian]</td>\n",
              "      <td>1</td>\n",
              "      <td>[``, Alsatia, '', ,, the, Latin, form, of, Als...</td>\n",
              "      <td>146</td>\n",
              "      <td>[Which, nationalities, still, refer, it, to, A...</td>\n",
              "      <td>15</td>\n",
              "    </tr>\n",
              "    <tr>\n",
              "      <th>84425</th>\n",
              "      <td>\"At 11 am Petrus Canisius Van Lierde as Papal ...</td>\n",
              "      <td>5a6116aae9e1cc001a33cecf</td>\n",
              "      <td>When did Van Lierde give everyone a last farew...</td>\n",
              "      <td>Pope_John_XXIII</td>\n",
              "      <td>[]</td>\n",
              "      <td>[]</td>\n",
              "      <td>0</td>\n",
              "      <td>[``, At, 11, am, Petrus, Canisius, Van, Lierde...</td>\n",
              "      <td>138</td>\n",
              "      <td>[When, did, Van, Lierde, give, everyone, a, la...</td>\n",
              "      <td>10</td>\n",
              "    </tr>\n",
              "    <tr>\n",
              "      <th>55482</th>\n",
              "      <td>\"Azure, three ships with three masts, rigged a...</td>\n",
              "      <td>5a847dab7cf838001a46a86f</td>\n",
              "      <td>What does DEO DUCENTE NIL NOCET mean in Russian?</td>\n",
              "      <td>East_India_Company</td>\n",
              "      <td>[]</td>\n",
              "      <td>[]</td>\n",
              "      <td>0</td>\n",
              "      <td>[``, Azure, ,, three, ships, with, three, mast...</td>\n",
              "      <td>153</td>\n",
              "      <td>[What, does, DEO, DUCENTE, NIL, NOCET, mean, i...</td>\n",
              "      <td>10</td>\n",
              "    </tr>\n",
              "    <tr>\n",
              "      <th>53601</th>\n",
              "      <td>\"Baseball's Sad Lexicon,\" also known as \"Tinke...</td>\n",
              "      <td>57268b24708984140094c998</td>\n",
              "      <td>Who wrote \"Baseball's Sad Lexicon\"?</td>\n",
              "      <td>Chicago_Cubs</td>\n",
              "      <td>[114]</td>\n",
              "      <td>[Franklin Pierce Adams]</td>\n",
              "      <td>1</td>\n",
              "      <td>[``, Baseball, 's, Sad, Lexicon, ,, '', also, ...</td>\n",
              "      <td>124</td>\n",
              "      <td>[Who, wrote, ``, Baseball, 's, Sad, Lexicon, '...</td>\n",
              "      <td>9</td>\n",
              "    </tr>\n",
              "  </tbody>\n",
              "</table>\n",
              "</div>"
            ],
            "text/plain": [
              "                                                 context  ... num_q_tokens\n",
              "60985  \"4 Minutes\" was released as the album's lead s...  ...           13\n",
              "74350  \"Alsatia\", the Latin form of Alsace's name, ha...  ...           15\n",
              "84425  \"At 11 am Petrus Canisius Van Lierde as Papal ...  ...           10\n",
              "55482  \"Azure, three ships with three masts, rigged a...  ...           10\n",
              "53601  \"Baseball's Sad Lexicon,\" also known as \"Tinke...  ...            9\n",
              "\n",
              "[5 rows x 11 columns]"
            ]
          },
          "metadata": {
            "tags": []
          },
          "execution_count": 77
        }
      ]
    },
    {
      "cell_type": "code",
      "metadata": {
        "colab": {
          "base_uri": "https://localhost:8080/"
        },
        "id": "3jwvpR0ZBeFt",
        "outputId": "54299c62-64b0-45f0-866c-132404230e6d"
      },
      "source": [
        "# number of questions\n",
        "n_question = len(train_reduce_df['context'])\n",
        "print(\"Number of questions :\", n_question)"
      ],
      "execution_count": null,
      "outputs": [
        {
          "output_type": "stream",
          "text": [
            "Number of questions : 19029\n"
          ],
          "name": "stdout"
        }
      ]
    },
    {
      "cell_type": "code",
      "metadata": {
        "colab": {
          "base_uri": "https://localhost:8080/"
        },
        "id": "1b5u_Zo7BeFu",
        "outputId": "ce446562-41b9-4e09-d962-e5ce29ca068b"
      },
      "source": [
        "# number of unique contexts\n",
        "unique_contexts = len(pd.unique(train_reduce_df['context']))\n",
        "print(\"Number of unique contexts :\", unique_contexts)"
      ],
      "execution_count": null,
      "outputs": [
        {
          "output_type": "stream",
          "text": [
            "Number of unique contexts : 19029\n"
          ],
          "name": "stdout"
        }
      ]
    },
    {
      "cell_type": "code",
      "metadata": {
        "colab": {
          "base_uri": "https://localhost:8080/"
        },
        "id": "IIMRE2sVBeFv",
        "outputId": "1c093319-7ff9-477d-f4a4-271b5520c1a8"
      },
      "source": [
        "# average number of tokens per question\n",
        "q_avg = train_reduce_df['num_q_tokens'].mean(axis = 0) \n",
        "print(\"Average number of tokens per question :\", q_avg)"
      ],
      "execution_count": null,
      "outputs": [
        {
          "output_type": "stream",
          "text": [
            "Average number of tokens per question : 11.160964843134163\n"
          ],
          "name": "stdout"
        }
      ]
    },
    {
      "cell_type": "code",
      "metadata": {
        "colab": {
          "base_uri": "https://localhost:8080/"
        },
        "id": "SyeFG0fUBeFw",
        "outputId": "c2dec7e0-6958-4712-bed0-59c40fc169e2"
      },
      "source": [
        "# average number of tokens per context\n",
        "c_unique = train_reduce_df.drop_duplicates(subset = ['context'])\n",
        "c_avg = c_unique['num_c_tokens'].mean(axis = 0) \n",
        "print(\"Average number of tokens per context :\", c_avg)"
      ],
      "execution_count": null,
      "outputs": [
        {
          "output_type": "stream",
          "text": [
            "Average number of tokens per context : 134.1707393977613\n"
          ],
          "name": "stdout"
        }
      ]
    },
    {
      "cell_type": "code",
      "metadata": {
        "colab": {
          "base_uri": "https://localhost:8080/"
        },
        "id": "QmdAC-eTBeFx",
        "outputId": "f12c523c-3682-4754-9f6c-b28b84a494b6"
      },
      "source": [
        "# get the number of answerable questions\n",
        "drop_no_answer = train_reduce_df[~train_reduce_df['answers.answer_start'].str.len().eq(0)]\n",
        "num_ans_question = len(drop_no_answer['context'])\n",
        "per_ans_question = (num_ans_question / n_question) * 100\n",
        "print(\"Number of answerable questions :\", num_ans_question)\n",
        "print(\"Percentage of answerable questions :\", per_ans_question)"
      ],
      "execution_count": null,
      "outputs": [
        {
          "output_type": "stream",
          "text": [
            "Number of answerable questions : 14373\n",
            "Percentage of answerable questions : 75.532082610752\n"
          ],
          "name": "stdout"
        }
      ]
    },
    {
      "cell_type": "code",
      "metadata": {
        "id": "pAqtBB2_CZwp"
      },
      "source": [
        "# convert squad data back to seperate jsonl files"
      ],
      "execution_count": null,
      "outputs": []
    },
    {
      "cell_type": "code",
      "metadata": {
        "id": "FYJEJNRvCZxE"
      },
      "source": [
        "# function to combine the start token and answer into dictionary\n",
        "def to_dict(answer_start, answer): \n",
        "  dict = {}\n",
        "  dict['answer_start'] = answer_start\n",
        "  dict['text'] = answer\n",
        "  return dict"
      ],
      "execution_count": null,
      "outputs": []
    },
    {
      "cell_type": "code",
      "metadata": {
        "id": "KErO1-DhCZxF"
      },
      "source": [
        "# run function\n",
        "train_reduce_df['answers'] = train_reduce_df.apply(lambda x:to_dict(x['answers.answer_start'],x['answers.text']), axis=1)\n",
        "validation_reduce_df['answers'] = validation_reduce_df.apply(lambda x:to_dict(x['answers.answer_start'],x['answers.text']), axis=1)"
      ],
      "execution_count": null,
      "outputs": []
    },
    {
      "cell_type": "code",
      "metadata": {
        "colab": {
          "base_uri": "https://localhost:8080/",
          "height": 683
        },
        "id": "Hku54rDcCfMR",
        "outputId": "0f579dfc-4544-474c-e235-7702af6ef048"
      },
      "source": [
        "pd.set_option('display.max_colwidth', 50)\n",
        "train_reduce_df.head()"
      ],
      "execution_count": null,
      "outputs": [
        {
          "output_type": "execute_result",
          "data": {
            "text/html": [
              "<div>\n",
              "<style scoped>\n",
              "    .dataframe tbody tr th:only-of-type {\n",
              "        vertical-align: middle;\n",
              "    }\n",
              "\n",
              "    .dataframe tbody tr th {\n",
              "        vertical-align: top;\n",
              "    }\n",
              "\n",
              "    .dataframe thead th {\n",
              "        text-align: right;\n",
              "    }\n",
              "</style>\n",
              "<table border=\"1\" class=\"dataframe\">\n",
              "  <thead>\n",
              "    <tr style=\"text-align: right;\">\n",
              "      <th></th>\n",
              "      <th>context</th>\n",
              "      <th>id</th>\n",
              "      <th>question</th>\n",
              "      <th>title</th>\n",
              "      <th>answers.answer_start</th>\n",
              "      <th>answers.text</th>\n",
              "      <th>answer_yes_no</th>\n",
              "      <th>context_tokens</th>\n",
              "      <th>num_c_tokens</th>\n",
              "      <th>question_tokens</th>\n",
              "      <th>num_q_tokens</th>\n",
              "      <th>answers</th>\n",
              "    </tr>\n",
              "  </thead>\n",
              "  <tbody>\n",
              "    <tr>\n",
              "      <th>60985</th>\n",
              "      <td>\"4 Minutes\" was released as the album's lead s...</td>\n",
              "      <td>5726e664dd62a815002e945c</td>\n",
              "      <td>4 minutes became Madonna's which number one si...</td>\n",
              "      <td>Madonna_(entertainer)</td>\n",
              "      <td>[343]</td>\n",
              "      <td>[thirteenth]</td>\n",
              "      <td>1</td>\n",
              "      <td>[``, 4, Minutes, '', was, released, as, the, a...</td>\n",
              "      <td>193</td>\n",
              "      <td>[4, minutes, became, Madonna, 's, which, numbe...</td>\n",
              "      <td>13</td>\n",
              "      <td>{'answer_start': [343], 'text': ['thirteenth']}</td>\n",
              "    </tr>\n",
              "    <tr>\n",
              "      <th>74350</th>\n",
              "      <td>\"Alsatia\", the Latin form of Alsace's name, ha...</td>\n",
              "      <td>5727acde3acd2414000de95f</td>\n",
              "      <td>Which nationalities still refer it to Alslace ...</td>\n",
              "      <td>Alsace</td>\n",
              "      <td>[420]</td>\n",
              "      <td>[English and Australian]</td>\n",
              "      <td>1</td>\n",
              "      <td>[``, Alsatia, '', ,, the, Latin, form, of, Als...</td>\n",
              "      <td>146</td>\n",
              "      <td>[Which, nationalities, still, refer, it, to, A...</td>\n",
              "      <td>15</td>\n",
              "      <td>{'answer_start': [420], 'text': ['English and ...</td>\n",
              "    </tr>\n",
              "    <tr>\n",
              "      <th>84425</th>\n",
              "      <td>\"At 11 am Petrus Canisius Van Lierde as Papal ...</td>\n",
              "      <td>5a6116aae9e1cc001a33cecf</td>\n",
              "      <td>When did Van Lierde give everyone a last farew...</td>\n",
              "      <td>Pope_John_XXIII</td>\n",
              "      <td>[]</td>\n",
              "      <td>[]</td>\n",
              "      <td>0</td>\n",
              "      <td>[``, At, 11, am, Petrus, Canisius, Van, Lierde...</td>\n",
              "      <td>138</td>\n",
              "      <td>[When, did, Van, Lierde, give, everyone, a, la...</td>\n",
              "      <td>10</td>\n",
              "      <td>{'answer_start': [], 'text': []}</td>\n",
              "    </tr>\n",
              "    <tr>\n",
              "      <th>55482</th>\n",
              "      <td>\"Azure, three ships with three masts, rigged a...</td>\n",
              "      <td>5a847dab7cf838001a46a86f</td>\n",
              "      <td>What does DEO DUCENTE NIL NOCET mean in Russian?</td>\n",
              "      <td>East_India_Company</td>\n",
              "      <td>[]</td>\n",
              "      <td>[]</td>\n",
              "      <td>0</td>\n",
              "      <td>[``, Azure, ,, three, ships, with, three, mast...</td>\n",
              "      <td>153</td>\n",
              "      <td>[What, does, DEO, DUCENTE, NIL, NOCET, mean, i...</td>\n",
              "      <td>10</td>\n",
              "      <td>{'answer_start': [], 'text': []}</td>\n",
              "    </tr>\n",
              "    <tr>\n",
              "      <th>53601</th>\n",
              "      <td>\"Baseball's Sad Lexicon,\" also known as \"Tinke...</td>\n",
              "      <td>57268b24708984140094c998</td>\n",
              "      <td>Who wrote \"Baseball's Sad Lexicon\"?</td>\n",
              "      <td>Chicago_Cubs</td>\n",
              "      <td>[114]</td>\n",
              "      <td>[Franklin Pierce Adams]</td>\n",
              "      <td>1</td>\n",
              "      <td>[``, Baseball, 's, Sad, Lexicon, ,, '', also, ...</td>\n",
              "      <td>124</td>\n",
              "      <td>[Who, wrote, ``, Baseball, 's, Sad, Lexicon, '...</td>\n",
              "      <td>9</td>\n",
              "      <td>{'answer_start': [114], 'text': ['Franklin Pie...</td>\n",
              "    </tr>\n",
              "  </tbody>\n",
              "</table>\n",
              "</div>"
            ],
            "text/plain": [
              "                                                 context  ...                                            answers\n",
              "60985  \"4 Minutes\" was released as the album's lead s...  ...    {'answer_start': [343], 'text': ['thirteenth']}\n",
              "74350  \"Alsatia\", the Latin form of Alsace's name, ha...  ...  {'answer_start': [420], 'text': ['English and ...\n",
              "84425  \"At 11 am Petrus Canisius Van Lierde as Papal ...  ...                   {'answer_start': [], 'text': []}\n",
              "55482  \"Azure, three ships with three masts, rigged a...  ...                   {'answer_start': [], 'text': []}\n",
              "53601  \"Baseball's Sad Lexicon,\" also known as \"Tinke...  ...  {'answer_start': [114], 'text': ['Franklin Pie...\n",
              "\n",
              "[5 rows x 12 columns]"
            ]
          },
          "metadata": {
            "tags": []
          },
          "execution_count": 88
        }
      ]
    },
    {
      "cell_type": "code",
      "metadata": {
        "id": "4YcjbVr7CfMS"
      },
      "source": [
        "# extract columns\n",
        "df_squad_train_reduce = train_reduce_df[['answers','context','id','question']]\n",
        "df_squad_validation_reduce = validation_reduce_df[['answers','context','id','question']]"
      ],
      "execution_count": null,
      "outputs": []
    },
    {
      "cell_type": "code",
      "metadata": {
        "id": "Mb3z3MAMCfMT"
      },
      "source": [
        "df_squad_train_reduce.to_json('/content/drive/MyDrive/ColabNotebooks/data/squad-reduce_train.jsonl',orient='records', lines=True)"
      ],
      "execution_count": null,
      "outputs": []
    },
    {
      "cell_type": "code",
      "metadata": {
        "id": "MjQ4603GCfMT"
      },
      "source": [
        "df_squad_validation_reduce.to_json('/content/drive/MyDrive/ColabNotebooks/data/squad-reduce_validation.jsonl',orient='records', lines=True)"
      ],
      "execution_count": null,
      "outputs": []
    },
    {
      "cell_type": "code",
      "metadata": {
        "id": "M0t58ZYLDg_4"
      },
      "source": [
        ""
      ],
      "execution_count": null,
      "outputs": []
    }
  ]
}